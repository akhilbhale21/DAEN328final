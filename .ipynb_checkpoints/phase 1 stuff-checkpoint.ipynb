{
 "cells": [
  {
   "cell_type": "code",
   "execution_count": 1,
   "id": "7d3361ca",
   "metadata": {},
   "outputs": [
    {
     "name": "stderr",
     "output_type": "stream",
     "text": [
      "/Users/akhilbhale/opt/anaconda3/lib/python3.9/site-packages/pandas/core/computation/expressions.py:21: UserWarning: Pandas requires version '2.8.4' or newer of 'numexpr' (version '2.8.3' currently installed).\n",
      "  from pandas.core.computation.check import NUMEXPR_INSTALLED\n",
      "/Users/akhilbhale/opt/anaconda3/lib/python3.9/site-packages/pandas/core/arrays/masked.py:60: UserWarning: Pandas requires version '1.3.6' or newer of 'bottleneck' (version '1.3.5' currently installed).\n",
      "  from pandas.core import (\n"
     ]
    }
   ],
   "source": [
    "import pandas as pd"
   ]
  },
  {
   "cell_type": "code",
   "execution_count": 2,
   "id": "0b74ba32",
   "metadata": {},
   "outputs": [],
   "source": [
    "df = pd.read_parquet(\"yellow_tripdata_2024-07.parquet\")"
   ]
  },
  {
   "cell_type": "code",
   "execution_count": 3,
   "id": "5f26ff27",
   "metadata": {},
   "outputs": [
    {
     "name": "stdout",
     "output_type": "stream",
     "text": [
      "   VendorID tpep_pickup_datetime tpep_dropoff_datetime  passenger_count  \\\n",
      "0         1  2024-07-01 00:34:56   2024-07-01 00:46:49              1.0   \n",
      "1         2  2024-06-30 23:48:58   2024-07-01 00:28:04              1.0   \n",
      "2         2  2024-07-01 00:23:18   2024-07-01 00:29:51              1.0   \n",
      "3         1  2024-07-01 00:10:33   2024-07-01 00:27:31              0.0   \n",
      "4         1  2024-07-01 00:07:55   2024-07-01 00:34:34              1.0   \n",
      "\n",
      "   trip_distance  RatecodeID store_and_fwd_flag  PULocationID  DOLocationID  \\\n",
      "0           3.20         1.0                  N           140            79   \n",
      "1          19.48         2.0                  N           132           113   \n",
      "2           1.18         1.0                  N           237           145   \n",
      "3           9.10         1.0                  N           138           164   \n",
      "4          17.70         2.0                  N           132           263   \n",
      "\n",
      "   payment_type  fare_amount  extra  mta_tax  tip_amount  tolls_amount  \\\n",
      "0             1         15.6   3.50      0.5        3.50          0.00   \n",
      "1             2         70.0   0.00      0.5        0.00          0.00   \n",
      "2             1          8.6   1.00      0.5        2.72          0.00   \n",
      "3             1         36.6  10.25      0.5       12.05          0.00   \n",
      "4             1         70.0   1.75      0.5       10.00          6.94   \n",
      "\n",
      "   improvement_surcharge  total_amount  congestion_surcharge  Airport_fee  \n",
      "0                    1.0         24.10                   2.5         0.00  \n",
      "1                    1.0         75.75                   2.5         1.75  \n",
      "2                    1.0         16.32                   2.5         0.00  \n",
      "3                    1.0         60.40                   2.5         1.75  \n",
      "4                    1.0         90.19                   0.0         1.75  \n"
     ]
    }
   ],
   "source": [
    "print(df.head())"
   ]
  },
  {
   "cell_type": "code",
   "execution_count": 4,
   "id": "afc5af5e",
   "metadata": {},
   "outputs": [
    {
     "name": "stdout",
     "output_type": "stream",
     "text": [
      "Rows:  3076903\n"
     ]
    }
   ],
   "source": [
    "print(\"Rows: \", df.shape[0])"
   ]
  },
  {
   "cell_type": "code",
   "execution_count": 5,
   "id": "030c2ee9",
   "metadata": {},
   "outputs": [
    {
     "name": "stdout",
     "output_type": "stream",
     "text": [
      "Columns:  19\n"
     ]
    }
   ],
   "source": [
    "print(\"Columns: \", df.shape[1])"
   ]
  },
  {
   "cell_type": "code",
   "execution_count": null,
   "id": "4383a4fb",
   "metadata": {},
   "outputs": [],
   "source": [
    "print(\"Column Names:\", df.columns.to_list())"
   ]
  }
 ],
 "metadata": {
  "kernelspec": {
   "display_name": "Python 3 (ipykernel)",
   "language": "python",
   "name": "python3"
  },
  "language_info": {
   "codemirror_mode": {
    "name": "ipython",
    "version": 3
   },
   "file_extension": ".py",
   "mimetype": "text/x-python",
   "name": "python",
   "nbconvert_exporter": "python",
   "pygments_lexer": "ipython3",
   "version": "3.9.12"
  }
 },
 "nbformat": 4,
 "nbformat_minor": 5
}
