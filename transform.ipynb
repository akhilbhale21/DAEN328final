{
 "cells": [
  {
   "cell_type": "code",
   "execution_count": 1,
   "id": "2db4f2bb-eaec-4330-8016-cb38c4253c6c",
   "metadata": {},
   "outputs": [],
   "source": [
    "## Display in Notebook\n",
    "from IPython.core.interactiveshell import InteractiveShell\n",
    "InteractiveShell.ast_node_interactivity = \"all\"\n",
    "\n",
    "\n",
    "import pandas as pd\n",
    "pd.set_option('display.max_rows', None)  # Show all rows\n",
    "pd.set_option('display.max_colwidth', None)  # Show full column width\n",
    "\n",
    "import numpy as np\n",
    "import os\n",
    "from collections import Counter\n",
    "from sqlalchemy import create_engine\n",
    "import re\n",
    "from sklearn.feature_extraction.text import CountVectorizer"
   ]
  },
  {
   "cell_type": "markdown",
   "id": "88860d15-ede4-4220-a000-b8b9d2b66daa",
   "metadata": {},
   "source": [
    "# first 5 cols"
   ]
  },
  {
   "cell_type": "code",
   "execution_count": 2,
   "id": "7049bfbd-bb5f-4515-8af3-2a843a06d025",
   "metadata": {},
   "outputs": [
    {
     "name": "stdout",
     "output_type": "stream",
     "text": [
      "Data loaded successfully!\n",
      "<class 'pandas.core.frame.DataFrame'>\n",
      "RangeIndex: 80000 entries, 0 to 79999\n",
      "Data columns (total 20 columns):\n",
      " #   Column                 Non-Null Count  Dtype  \n",
      "---  ------                 --------------  -----  \n",
      " 0   Unnamed: 0             80000 non-null  int64  \n",
      " 1   vendorid               80000 non-null  int64  \n",
      " 2   tpep_pickup_datetime   80000 non-null  object \n",
      " 3   tpep_dropoff_datetime  80000 non-null  object \n",
      " 4   passenger_count        80000 non-null  int64  \n",
      " 5   trip_distance          80000 non-null  float64\n",
      " 6   ratecodeid             80000 non-null  int64  \n",
      " 7   store_and_fwd_flag     80000 non-null  object \n",
      " 8   pulocationid           80000 non-null  int64  \n",
      " 9   dolocationid           80000 non-null  int64  \n",
      " 10  payment_type           80000 non-null  int64  \n",
      " 11  fare_amount            80000 non-null  float64\n",
      " 12  extra                  80000 non-null  float64\n",
      " 13  mta_tax                80000 non-null  float64\n",
      " 14  tip_amount             80000 non-null  float64\n",
      " 15  tolls_amount           80000 non-null  float64\n",
      " 16  improvement_surcharge  80000 non-null  float64\n",
      " 17  total_amount           80000 non-null  float64\n",
      " 18  congestion_surcharge   80000 non-null  float64\n",
      " 19  airport_fee            80000 non-null  float64\n",
      "dtypes: float64(10), int64(7), object(3)\n",
      "memory usage: 12.2+ MB\n"
     ]
    }
   ],
   "source": [
    "df = pd.read_csv('/Users/leisha/Documents/DAEN 328/final project/nyc_taxi.csv')\n",
    "print(\"Data loaded successfully!\")\n",
    "df.info()  # Display DataFrame information"
   ]
  },
  {
   "cell_type": "code",
   "execution_count": 3,
   "id": "6a01b102-b9f5-4e7c-b651-ac1734fe6197",
   "metadata": {},
   "outputs": [
    {
     "name": "stdout",
     "output_type": "stream",
     "text": [
      "Number unique rows: 80000\n"
     ]
    }
   ],
   "source": [
    "#drop duplicates- if any exist\n",
    "df = df.drop_duplicates()\n",
    "print(f'Number unique rows: {len(df)}')"
   ]
  },
  {
   "cell_type": "markdown",
   "id": "03dca534-31a2-45b8-b7a3-d06d965bdab0",
   "metadata": {},
   "source": [
    "### missing values"
   ]
  },
  {
   "cell_type": "code",
   "execution_count": 4,
   "id": "0d28a103-ab5a-4714-a10d-55b007c1f301",
   "metadata": {},
   "outputs": [
    {
     "name": "stdout",
     "output_type": "stream",
     "text": [
      " Number of Rows with Missing Values: 0\n",
      "\n",
      " Missing Values Count Per Column (Before Cleaning):\n",
      "Unnamed: 0               0\n",
      "vendorid                 0\n",
      "tpep_pickup_datetime     0\n",
      "tpep_dropoff_datetime    0\n",
      "passenger_count          0\n",
      "trip_distance            0\n",
      "ratecodeid               0\n",
      "store_and_fwd_flag       0\n",
      "pulocationid             0\n",
      "dolocationid             0\n",
      "payment_type             0\n",
      "fare_amount              0\n",
      "extra                    0\n",
      "mta_tax                  0\n",
      "tip_amount               0\n",
      "tolls_amount             0\n",
      "improvement_surcharge    0\n",
      "total_amount             0\n",
      "congestion_surcharge     0\n",
      "airport_fee              0\n",
      "dtype: int64\n"
     ]
    }
   ],
   "source": [
    "# Step 2: Identify and Standardize Missing Values\n",
    "\n",
    "# Replace all NaN values with Pandas' NA representation\n",
    "df = df.replace({np.nan: pd.NA})\n",
    "\n",
    "# Count the number of missing values in each column\n",
    "missing_values = df.isna().sum()\n",
    "\n",
    "# Count the number of rows with at least one missing value\n",
    "num_rows_with_missing = df.isnull().any(axis=1).sum()\n",
    "\n",
    "# Display results\n",
    "print(f\" Number of Rows with Missing Values: {num_rows_with_missing}\\n\")\n",
    "\n",
    "print(\" Missing Values Count Per Column (Before Cleaning):\")\n",
    "print(missing_values)"
   ]
  },
  {
   "cell_type": "markdown",
   "id": "1b4c4dbf-3fe7-4742-a30e-babc605a2c17",
   "metadata": {},
   "source": [
    "### pickup_datetime "
   ]
  },
  {
   "cell_type": "code",
   "execution_count": 5,
   "id": "a1e9a5e3-551a-4e49-b98e-6d081b0671fb",
   "metadata": {},
   "outputs": [
    {
     "name": "stdout",
     "output_type": "stream",
     "text": [
      "       tpep_pickup_datetime\n",
      "0   2023-01-01T00:32:10.000\n",
      "1   2023-01-01T00:55:08.000\n",
      "2   2023-01-01T00:25:04.000\n",
      "3   2023-01-01T00:03:48.000\n",
      "4   2023-01-01T00:10:29.000\n",
      "5   2023-01-01T00:50:34.000\n",
      "6   2023-01-01T00:09:22.000\n",
      "7   2023-01-01T00:27:12.000\n",
      "8   2023-01-01T00:21:44.000\n",
      "9   2023-01-01T00:39:42.000\n",
      "10  2023-01-01T00:53:01.000\n",
      "11  2023-01-01T00:43:37.000\n",
      "12  2023-01-01T00:34:44.000\n",
      "13  2023-01-01T00:09:29.000\n",
      "14  2023-01-01T00:33:53.000\n",
      "15  2023-01-01T00:13:04.000\n",
      "16  2023-01-01T00:45:11.000\n",
      "17  2023-01-01T00:04:33.000\n",
      "18  2023-01-01T00:03:36.000\n",
      "19  2023-01-01T00:15:23.000\n"
     ]
    }
   ],
   "source": [
    "print(df[['tpep_pickup_datetime']].head(20))"
   ]
  },
  {
   "cell_type": "code",
   "execution_count": 6,
   "id": "213d9129-466a-48aa-a753-afca58de5daa",
   "metadata": {},
   "outputs": [
    {
     "name": "stdout",
     "output_type": "stream",
     "text": [
      "  tpep_pickup_datetime pickup_date pickup_time\n",
      "0  2023-01-01 00:32:10  01/01/2023    00:32:10\n",
      "1  2023-01-01 00:55:08  01/01/2023    00:55:08\n",
      "2  2023-01-01 00:25:04  01/01/2023    00:25:04\n",
      "3  2023-01-01 00:03:48  01/01/2023    00:03:48\n",
      "4  2023-01-01 00:10:29  01/01/2023    00:10:29\n",
      "5  2023-01-01 00:50:34  01/01/2023    00:50:34\n",
      "6  2023-01-01 00:09:22  01/01/2023    00:09:22\n",
      "7  2023-01-01 00:27:12  01/01/2023    00:27:12\n",
      "8  2023-01-01 00:21:44  01/01/2023    00:21:44\n",
      "9  2023-01-01 00:39:42  01/01/2023    00:39:42\n"
     ]
    }
   ],
   "source": [
    "import pandas as pd\n",
    "\n",
    "# Your function\n",
    "def standardize_birthdate(date):\n",
    "    try:\n",
    "        if pd.isna(date) or date in [\"None\", \"nan\", \"\"]:  # Handle missing values\n",
    "            return \"01/01/2000\"\n",
    "        \n",
    "        date = str(date).strip()\n",
    "        if \".\" in date:  # If the format is YYYY.MM.DD\n",
    "            return pd.to_datetime(date, format=\"%Y.%m.%d\").strftime(\"%m/%d/%Y\")\n",
    "        else:  # Assume the format is already a valid date\n",
    "            return pd.to_datetime(date).strftime(\"%m/%d/%Y\")\n",
    "    except:\n",
    "        return \"01/01/2000\"  # Replace invalid dates with default\n",
    "\n",
    "# Convert datetime column to datetime dtype if it's not already\n",
    "df['tpep_pickup_datetime'] = pd.to_datetime(df['tpep_pickup_datetime'], errors='coerce')\n",
    "\n",
    "# Split into date and time\n",
    "df['pickup_date'] = df['tpep_pickup_datetime'].dt.date.astype(str)\n",
    "df['pickup_time'] = df['tpep_pickup_datetime'].dt.time.astype(str)\n",
    "\n",
    "# Standardize the date format\n",
    "df['pickup_date'] = df['pickup_date'].apply(standardize_birthdate)\n",
    "\n",
    "# Final output\n",
    "print(df[['tpep_pickup_datetime', 'pickup_date', 'pickup_time']].head(10))\n"
   ]
  },
  {
   "cell_type": "markdown",
   "id": "31df6c3f-680e-4127-92cc-1115333d9bf2",
   "metadata": {},
   "source": [
    "### dropoff_datetime"
   ]
  },
  {
   "cell_type": "code",
   "execution_count": 7,
   "id": "b20ccce3-0be1-48dd-bd3e-5692d814261f",
   "metadata": {},
   "outputs": [
    {
     "name": "stdout",
     "output_type": "stream",
     "text": [
      "  tpep_dropoff_datetime dropoff_date dropoff_time\n",
      "0   2023-01-01 00:40:36   01/01/2023     00:40:36\n",
      "1   2023-01-01 01:01:27   01/01/2023     01:01:27\n",
      "2   2023-01-01 00:37:49   01/01/2023     00:37:49\n",
      "3   2023-01-01 00:13:25   01/01/2023     00:13:25\n",
      "4   2023-01-01 00:21:19   01/01/2023     00:21:19\n",
      "5   2023-01-01 01:02:52   01/01/2023     01:02:52\n",
      "6   2023-01-01 00:19:49   01/01/2023     00:19:49\n",
      "7   2023-01-01 00:49:56   01/01/2023     00:49:56\n",
      "8   2023-01-01 00:36:40   01/01/2023     00:36:40\n",
      "9   2023-01-01 00:50:36   01/01/2023     00:50:36\n"
     ]
    }
   ],
   "source": [
    "# Convert datetime column to datetime dtype if it's not already\n",
    "df['tpep_dropoff_datetime'] = pd.to_datetime(df['tpep_dropoff_datetime'], errors='coerce')\n",
    "\n",
    "# Split into date and time\n",
    "df['dropoff_date'] = df['tpep_dropoff_datetime'].dt.date.astype(str)\n",
    "df['dropoff_time'] = df['tpep_dropoff_datetime'].dt.time.astype(str)\n",
    "\n",
    "# Standardize the date format\n",
    "df['dropoff_date'] = df['dropoff_date'].apply(standardize_birthdate)\n",
    "\n",
    "# Final output\n",
    "print(df[['tpep_dropoff_datetime', 'dropoff_date', 'dropoff_time']].head(10))"
   ]
  },
  {
   "cell_type": "markdown",
   "id": "655afab6-4ecc-4001-a69e-9fbb43d7ec56",
   "metadata": {},
   "source": [
    "### vendor id"
   ]
  },
  {
   "cell_type": "code",
   "execution_count": 8,
   "id": "24d0ac1b-71c1-469a-bc95-27d3bd5f5fa6",
   "metadata": {},
   "outputs": [
    {
     "name": "stdout",
     "output_type": "stream",
     "text": [
      "   vendorid\n",
      "0         2\n",
      "1         2\n",
      "2         2\n",
      "3         1\n",
      "4         2\n",
      "5         2\n",
      "6         2\n",
      "7         2\n",
      "8         2\n",
      "9         2\n",
      "Empty DataFrame\n",
      "Columns: [vendorid]\n",
      "Index: []\n"
     ]
    }
   ],
   "source": [
    "print(df[['vendorid']].head(10))\n",
    "# Check for vendorid values not equal to 1 or 2\n",
    "invalid_vendor_ids = df[~df['vendorid'].isin([1, 2])]\n",
    "\n",
    "# Display them (if any)\n",
    "print(invalid_vendor_ids[['vendorid']])\n",
    "\n",
    "#vendorid is already clean"
   ]
  },
  {
   "cell_type": "markdown",
   "id": "cc8ef01a-1427-45ea-ab62-bf82f891ab7e",
   "metadata": {},
   "source": [
    "### passenger count"
   ]
  },
  {
   "cell_type": "code",
   "execution_count": 9,
   "id": "d40268ce-9c12-4f09-a74e-b01897ad7d21",
   "metadata": {},
   "outputs": [
    {
     "name": "stdout",
     "output_type": "stream",
     "text": [
      "   passenger_count\n",
      "0                1\n",
      "1                1\n",
      "2                1\n",
      "3                0\n",
      "4                1\n",
      "5                1\n",
      "6                1\n",
      "7                1\n",
      "8                1\n",
      "9                1\n",
      "Number of invalid passenger counts: 1432\n"
     ]
    }
   ],
   "source": [
    "print(df[['passenger_count']].head(10))\n",
    "# Find rows where passenger_count is not between 1 and 6\n",
    "invalid_passenger_counts = df[~df['passenger_count'].between(1, 6)]\n",
    "print(\"Number of invalid passenger counts:\", len(invalid_passenger_counts))"
   ]
  },
  {
   "cell_type": "code",
   "execution_count": 10,
   "id": "da3eda66-1908-4728-8a25-5deb8151fe5d",
   "metadata": {},
   "outputs": [],
   "source": [
    "# Remove rows where passenger_count is 0\n",
    "df = df[df['passenger_count'] != 0]\n",
    "\n",
    "# Optional: Reset the index if you want a clean index after removal\n",
    "df.reset_index(drop=True, inplace=True)"
   ]
  },
  {
   "cell_type": "code",
   "execution_count": 11,
   "id": "11df1370-f659-4e50-aede-cc017eb93b1c",
   "metadata": {},
   "outputs": [
    {
     "name": "stdout",
     "output_type": "stream",
     "text": [
      "Number of invalid passenger counts: 0\n"
     ]
    }
   ],
   "source": [
    "#count invalid passenger_counts again to check if dataset is clean\n",
    "invalid_passenger_counts = df[~df['passenger_count'].between(1, 6)]\n",
    "print(\"Number of invalid passenger counts:\", len(invalid_passenger_counts))"
   ]
  },
  {
   "cell_type": "markdown",
   "id": "594c19fc-9c75-4267-a8b6-30333571af90",
   "metadata": {},
   "source": [
    "### trip distance"
   ]
  },
  {
   "cell_type": "code",
   "execution_count": 12,
   "id": "167e5d63-2f1c-48aa-a986-b32a015e5934",
   "metadata": {},
   "outputs": [
    {
     "name": "stdout",
     "output_type": "stream",
     "text": [
      "   trip_distance\n",
      "0           0.97\n",
      "1           1.10\n",
      "2           2.51\n",
      "3           1.43\n",
      "4           1.84\n",
      "5           1.66\n",
      "6          11.70\n",
      "7           2.95\n",
      "8           3.01\n",
      "9           1.80\n"
     ]
    }
   ],
   "source": [
    "print(df[['trip_distance']].head(10))"
   ]
  },
  {
   "cell_type": "code",
   "execution_count": 13,
   "id": "300266cc-7dee-484b-9ab1-3c9bf33e62f3",
   "metadata": {},
   "outputs": [
    {
     "name": "stdout",
     "output_type": "stream",
     "text": [
      "Number of rows with trip_distance = 0: 1441\n"
     ]
    }
   ],
   "source": [
    "# Count rows where trip_distance is 0\n",
    "zero_distance_count = (df['trip_distance'] == 0).sum()\n",
    "print(\"Number of rows with trip_distance = 0:\", zero_distance_count)\n"
   ]
  },
  {
   "cell_type": "code",
   "execution_count": 14,
   "id": "56d35ffe-f454-4a87-a149-c6039ecd9a0e",
   "metadata": {},
   "outputs": [
    {
     "name": "stdout",
     "output_type": "stream",
     "text": [
      "Number of rows with trip_distance = 0: 0\n"
     ]
    }
   ],
   "source": [
    "# Remove rows where trip_distance is 0\n",
    "df = df[df['trip_distance'] != 0]\n",
    "\n",
    "# Optional: Reset the index if you want a clean index after removal\n",
    "df.reset_index(drop=True, inplace=True)\n",
    "\n",
    "zero_distance_count = (df['trip_distance'] == 0).sum()\n",
    "print(\"Number of rows with trip_distance = 0:\", zero_distance_count)"
   ]
  },
  {
   "cell_type": "markdown",
   "id": "fbb8b835-3976-4fa6-b3b7-f13e3a20cfd0",
   "metadata": {},
   "source": [
    "### remove rows where dropoff < pickup"
   ]
  },
  {
   "cell_type": "code",
   "execution_count": 15,
   "id": "d8e14e29-58d8-4ef0-abeb-711e04bb9e77",
   "metadata": {},
   "outputs": [
    {
     "name": "stdout",
     "output_type": "stream",
     "text": [
      "      tpep_pickup_datetime tpep_dropoff_datetime\n",
      "44855  2023-01-01 15:51:30   2023-01-01 15:51:30\n",
      "Number of rows where dropoff is not after pickup: 1\n"
     ]
    }
   ],
   "source": [
    "# Ensure the datetime columns are in proper datetime format\n",
    "df['tpep_pickup_datetime'] = pd.to_datetime(df['tpep_pickup_datetime'], errors='coerce')\n",
    "df['tpep_dropoff_datetime'] = pd.to_datetime(df['tpep_dropoff_datetime'], errors='coerce')\n",
    "\n",
    "# Find rows where dropoff is not after pickup\n",
    "invalid_datetime_rows = df[df['tpep_dropoff_datetime'] <= df['tpep_pickup_datetime']]\n",
    "\n",
    "# Display the rows\n",
    "print(invalid_datetime_rows[['tpep_pickup_datetime', 'tpep_dropoff_datetime']])\n",
    "\n",
    "# Optional: Count how many\n",
    "print(\"Number of rows where dropoff is not after pickup:\", len(invalid_datetime_rows))\n"
   ]
  },
  {
   "cell_type": "code",
   "execution_count": 16,
   "id": "6a0b1786-002e-4cfa-967a-fc7e59ea5edb",
   "metadata": {},
   "outputs": [],
   "source": [
    "# Remove rows where dropoff is not after pickup\n",
    "df = df[df['tpep_dropoff_datetime'] > df['tpep_pickup_datetime']]\n",
    "\n",
    "# Optional: Reset index\n",
    "df.reset_index(drop=True, inplace=True)\n"
   ]
  },
  {
   "cell_type": "markdown",
   "id": "bb459f2f-dff8-436c-99ae-56b782a444fc",
   "metadata": {},
   "source": [
    "# next 4 cols "
   ]
  },
  {
   "cell_type": "code",
   "execution_count": 17,
   "id": "96cd03c3-20cf-408f-b2d7-17b9db3d1d8e",
   "metadata": {},
   "outputs": [
    {
     "data": {
      "text/html": [
       "<div>\n",
       "<style scoped>\n",
       "    .dataframe tbody tr th:only-of-type {\n",
       "        vertical-align: middle;\n",
       "    }\n",
       "\n",
       "    .dataframe tbody tr th {\n",
       "        vertical-align: top;\n",
       "    }\n",
       "\n",
       "    .dataframe thead th {\n",
       "        text-align: right;\n",
       "    }\n",
       "</style>\n",
       "<table border=\"1\" class=\"dataframe\">\n",
       "  <thead>\n",
       "    <tr style=\"text-align: right;\">\n",
       "      <th></th>\n",
       "      <th>ratecodeid</th>\n",
       "      <th>store_and_fwd_flag</th>\n",
       "      <th>pulocationid</th>\n",
       "      <th>dolocationid</th>\n",
       "    </tr>\n",
       "  </thead>\n",
       "  <tbody>\n",
       "    <tr>\n",
       "      <th>0</th>\n",
       "      <td>1</td>\n",
       "      <td>N</td>\n",
       "      <td>161</td>\n",
       "      <td>141</td>\n",
       "    </tr>\n",
       "    <tr>\n",
       "      <th>1</th>\n",
       "      <td>1</td>\n",
       "      <td>N</td>\n",
       "      <td>43</td>\n",
       "      <td>237</td>\n",
       "    </tr>\n",
       "    <tr>\n",
       "      <th>2</th>\n",
       "      <td>1</td>\n",
       "      <td>N</td>\n",
       "      <td>48</td>\n",
       "      <td>238</td>\n",
       "    </tr>\n",
       "    <tr>\n",
       "      <th>3</th>\n",
       "      <td>1</td>\n",
       "      <td>N</td>\n",
       "      <td>107</td>\n",
       "      <td>79</td>\n",
       "    </tr>\n",
       "    <tr>\n",
       "      <th>4</th>\n",
       "      <td>1</td>\n",
       "      <td>N</td>\n",
       "      <td>161</td>\n",
       "      <td>137</td>\n",
       "    </tr>\n",
       "  </tbody>\n",
       "</table>\n",
       "</div>"
      ],
      "text/plain": [
       "   ratecodeid store_and_fwd_flag  pulocationid  dolocationid\n",
       "0           1                  N           161           141\n",
       "1           1                  N            43           237\n",
       "2           1                  N            48           238\n",
       "3           1                  N           107            79\n",
       "4           1                  N           161           137"
      ]
     },
     "execution_count": 17,
     "metadata": {},
     "output_type": "execute_result"
    }
   ],
   "source": [
    "# Preview the columns you're cleaning\n",
    "df[[\"ratecodeid\", \"store_and_fwd_flag\", \"pulocationid\", \"dolocationid\"]].head()\n"
   ]
  },
  {
   "cell_type": "code",
   "execution_count": 18,
   "id": "64f321c9-d7e8-4a82-8cf9-b5422c745d6f",
   "metadata": {},
   "outputs": [],
   "source": [
    "# Define the mapping\n",
    "ratecode_map = {\n",
    "    1: \"Standard rate\",\n",
    "    2: \"JFK\",\n",
    "    3: \"Newark\",\n",
    "    4: \"Nassau/Westchester\",\n",
    "    5: \"Negotiated fare\",\n",
    "    6: \"Group ride\",\n",
    "    99: \"Unknown\"\n",
    "}\n",
    "\n",
    "# Convert to numeric first (if not already)\n",
    "df['ratecodeid'] = pd.to_numeric(df['ratecodeid'], errors='coerce')\n",
    "\n",
    "# Map the values to descriptions\n",
    "df['rate_description'] = df['ratecodeid'].map(ratecode_map)\n",
    "\n",
    "# Drop the original column if no longer needed\n",
    "df.drop(columns=['ratecodeid', 'tpep_dropoff_datetime', 'tpep_pickup_datetime'], inplace=True)\n"
   ]
  },
  {
   "cell_type": "code",
   "execution_count": null,
   "id": "171b387f-45fe-4b1f-99b8-8b82a304d0d6",
   "metadata": {},
   "outputs": [],
   "source": []
  },
  {
   "cell_type": "markdown",
   "id": "ceb932ba-bba0-4e05-9d45-b1f34bd2cdbe",
   "metadata": {},
   "source": [
    "# next 5 cols"
   ]
  },
  {
   "cell_type": "code",
   "execution_count": 19,
   "id": "19ef31f0-ff29-455c-9e0a-0d66662eeaaf",
   "metadata": {},
   "outputs": [],
   "source": [
    "## cleans payment_type by creaing a map of the existing numeric values to the actual payment type\n",
    "def clean_payment_type(df):\n",
    "    payment_type_map = {\n",
    "        0: \"Flex Fare trip\",\n",
    "        1: \"Credit Card\",\n",
    "        2: \"Cash\",\n",
    "        3: \"No charge\",\n",
    "        4: \"Dispute\",\n",
    "        5: \"Unknown\",\n",
    "        6: \"Voided trip\"\n",
    "    }\n",
    "    df['payment_type'] = pd.to_numeric(df['payment_type'], errors='coerce')\n",
    "    df['payment_type'] = df['payment_type'].map(payment_type_map)\n",
    "    \n",
    "    return df\n",
    "\n",
    "## clean fare_amount, extra, mta_tax, tip_amount\n",
    "def clean_fare_and_related_columns(df):\n",
    "    numeric_cols = ['fare_amount', 'extra', 'mta_tax', 'tip_amount']\n",
    "    \n",
    "    for col in numeric_cols:\n",
    "        df[col] = pd.to_numeric(df[col], errors='coerce')\n",
    "        df[col] = df[col].round(2)\n",
    "        df = df[df[col] >= 0] \n",
    "    \n",
    "    return df    "
   ]
  },
  {
   "cell_type": "code",
   "execution_count": 20,
   "id": "35cc0245-d02e-421e-b6cd-6b37f00f63a3",
   "metadata": {},
   "outputs": [
    {
     "name": "stderr",
     "output_type": "stream",
     "text": [
      "/var/folders/3v/m5x1w_j143xfvc4whh1kxgw80000gn/T/ipykernel_56861/3919768340.py:22: SettingWithCopyWarning: \n",
      "A value is trying to be set on a copy of a slice from a DataFrame.\n",
      "Try using .loc[row_indexer,col_indexer] = value instead\n",
      "\n",
      "See the caveats in the documentation: https://pandas.pydata.org/pandas-docs/stable/user_guide/indexing.html#returning-a-view-versus-a-copy\n",
      "  df[col] = pd.to_numeric(df[col], errors='coerce')\n",
      "/var/folders/3v/m5x1w_j143xfvc4whh1kxgw80000gn/T/ipykernel_56861/3919768340.py:23: SettingWithCopyWarning: \n",
      "A value is trying to be set on a copy of a slice from a DataFrame.\n",
      "Try using .loc[row_indexer,col_indexer] = value instead\n",
      "\n",
      "See the caveats in the documentation: https://pandas.pydata.org/pandas-docs/stable/user_guide/indexing.html#returning-a-view-versus-a-copy\n",
      "  df[col] = df[col].round(2)\n"
     ]
    }
   ],
   "source": [
    "df = clean_payment_type(df)\n",
    "df = clean_fare_and_related_columns(df)"
   ]
  },
  {
   "cell_type": "code",
   "execution_count": 21,
   "id": "4050aca5-4f04-4b00-9600-3c2da4073d5b",
   "metadata": {},
   "outputs": [],
   "source": [
    "df.drop(columns=['store_and_fwd_flag'], inplace=True)\n"
   ]
  },
  {
   "cell_type": "markdown",
   "id": "189c6aea-8d70-422a-89f8-e83d83143c92",
   "metadata": {},
   "source": [
    "# last 5 cols"
   ]
  },
  {
   "cell_type": "code",
   "execution_count": 22,
   "id": "09abc5c3-7980-431f-bc84-323c06916f88",
   "metadata": {},
   "outputs": [
    {
     "name": "stdout",
     "output_type": "stream",
     "text": [
      " 2 negatives values in improvement_surcharge\n",
      " 2 negatives values in total_amount\n",
      "\n",
      "cleaned cols:\n"
     ]
    },
    {
     "data": {
      "text/html": [
       "<div>\n",
       "<style scoped>\n",
       "    .dataframe tbody tr th:only-of-type {\n",
       "        vertical-align: middle;\n",
       "    }\n",
       "\n",
       "    .dataframe tbody tr th {\n",
       "        vertical-align: top;\n",
       "    }\n",
       "\n",
       "    .dataframe thead th {\n",
       "        text-align: right;\n",
       "    }\n",
       "</style>\n",
       "<table border=\"1\" class=\"dataframe\">\n",
       "  <thead>\n",
       "    <tr style=\"text-align: right;\">\n",
       "      <th></th>\n",
       "      <th>tolls_amount</th>\n",
       "      <th>improvement_surcharge</th>\n",
       "      <th>total_amount</th>\n",
       "      <th>congestion_surcharge</th>\n",
       "      <th>airport_fee</th>\n",
       "    </tr>\n",
       "  </thead>\n",
       "  <tbody>\n",
       "    <tr>\n",
       "      <th>count</th>\n",
       "      <td>76401.000000</td>\n",
       "      <td>76401.000000</td>\n",
       "      <td>76401.000000</td>\n",
       "      <td>76401.000000</td>\n",
       "      <td>76401.000000</td>\n",
       "    </tr>\n",
       "    <tr>\n",
       "      <th>mean</th>\n",
       "      <td>0.784439</td>\n",
       "      <td>0.997993</td>\n",
       "      <td>31.317227</td>\n",
       "      <td>2.226116</td>\n",
       "      <td>0.154972</td>\n",
       "    </tr>\n",
       "    <tr>\n",
       "      <th>std</th>\n",
       "      <td>2.511378</td>\n",
       "      <td>0.037789</td>\n",
       "      <td>25.332725</td>\n",
       "      <td>0.780836</td>\n",
       "      <td>0.411947</td>\n",
       "    </tr>\n",
       "    <tr>\n",
       "      <th>min</th>\n",
       "      <td>0.000000</td>\n",
       "      <td>0.000000</td>\n",
       "      <td>0.000000</td>\n",
       "      <td>0.000000</td>\n",
       "      <td>0.000000</td>\n",
       "    </tr>\n",
       "    <tr>\n",
       "      <th>25%</th>\n",
       "      <td>0.000000</td>\n",
       "      <td>1.000000</td>\n",
       "      <td>15.480000</td>\n",
       "      <td>2.500000</td>\n",
       "      <td>0.000000</td>\n",
       "    </tr>\n",
       "    <tr>\n",
       "      <th>50%</th>\n",
       "      <td>0.000000</td>\n",
       "      <td>1.000000</td>\n",
       "      <td>21.380000</td>\n",
       "      <td>2.500000</td>\n",
       "      <td>0.000000</td>\n",
       "    </tr>\n",
       "    <tr>\n",
       "      <th>75%</th>\n",
       "      <td>0.000000</td>\n",
       "      <td>1.000000</td>\n",
       "      <td>35.280000</td>\n",
       "      <td>2.500000</td>\n",
       "      <td>0.000000</td>\n",
       "    </tr>\n",
       "    <tr>\n",
       "      <th>max</th>\n",
       "      <td>49.850000</td>\n",
       "      <td>1.000000</td>\n",
       "      <td>472.250000</td>\n",
       "      <td>2.500000</td>\n",
       "      <td>1.250000</td>\n",
       "    </tr>\n",
       "  </tbody>\n",
       "</table>\n",
       "</div>"
      ],
      "text/plain": [
       "       tolls_amount  improvement_surcharge  total_amount  \\\n",
       "count  76401.000000           76401.000000  76401.000000   \n",
       "mean       0.784439               0.997993     31.317227   \n",
       "std        2.511378               0.037789     25.332725   \n",
       "min        0.000000               0.000000      0.000000   \n",
       "25%        0.000000               1.000000     15.480000   \n",
       "50%        0.000000               1.000000     21.380000   \n",
       "75%        0.000000               1.000000     35.280000   \n",
       "max       49.850000               1.000000    472.250000   \n",
       "\n",
       "       congestion_surcharge   airport_fee  \n",
       "count          76401.000000  76401.000000  \n",
       "mean               2.226116      0.154972  \n",
       "std                0.780836      0.411947  \n",
       "min                0.000000      0.000000  \n",
       "25%                2.500000      0.000000  \n",
       "50%                2.500000      0.000000  \n",
       "75%                2.500000      0.000000  \n",
       "max                2.500000      1.250000  "
      ]
     },
     "metadata": {},
     "output_type": "display_data"
    }
   ],
   "source": [
    "# cleaning columns: tolls_amount, improvement_surcharge, total_amount, congestion_surcharge, airport_fee\n",
    "\n",
    "columns_to_clean = [\n",
    "    'tolls_amount', \n",
    "    'improvement_surcharge', \n",
    "    'total_amount', \n",
    "    'congestion_surcharge', \n",
    "    'airport_fee'\n",
    "]\n",
    "\n",
    "# converting all cols to numeric and handle missing vals\n",
    "for col in columns_to_clean:\n",
    "    df[col] = pd.to_numeric(df[col], errors='coerce')\n",
    "    \n",
    "    # NaN values\n",
    "    null_count = df[col].isna().sum()\n",
    "    if null_count > 0:\n",
    "        print(f\"{null_count} missing values in {col}\")\n",
    "        # filled with 0\n",
    "        df[col] = df[col].fillna(0)\n",
    "    \n",
    "    # making sure all values are non negative\n",
    "    neg_count = (df[col] < 0).sum()\n",
    "    if neg_count > 0:\n",
    "        print(f\" {neg_count} negatives values in {col}\")\n",
    "        df[col] = df[col].clip(lower=0)\n",
    "    \n",
    "    # round to 2 decimal places\n",
    "    df[col] = df[col].round(2)\n",
    "\n",
    "print()\n",
    "print(\"cleaned cols:\")\n",
    "display(df[columns_to_clean].describe())"
   ]
  },
  {
   "cell_type": "code",
   "execution_count": 23,
   "id": "12d4d21d-eae8-4d65-87f3-bbb541ee4fc0",
   "metadata": {},
   "outputs": [
    {
     "name": "stdout",
     "output_type": "stream",
     "text": [
      "improvement_surcharge value counts:\n"
     ]
    },
    {
     "data": {
      "text/plain": [
       "improvement_surcharge\n",
       "0.0        7\n",
       "0.3      209\n",
       "1.0    76185\n",
       "Name: count, dtype: int64"
      ]
     },
     "metadata": {},
     "output_type": "display_data"
    }
   ],
   "source": [
    "# checking vals for improvement_surcharge\n",
    "# from NYC TLC data dictionary and documentation:\n",
    "# $0.30 surcharge from 2015 - 2018\n",
    "# $0.50 prior to February 2022\n",
    "# $1.00 after February 2022\n",
    "# $0.00 for some exempt trips\n",
    "print(\"improvement_surcharge value counts:\")\n",
    "display(df['improvement_surcharge'].value_counts().sort_index())\n",
    "\n",
    "# checking for unusual values outside the expected ranges\n",
    "expected_improvement_values = [0.0, 0.3, 0.5, 1.0]\n",
    "mask = ~df['improvement_surcharge'].isin(expected_improvement_values)\n",
    "if mask.sum() > 0:\n",
    "    print(f\"{mask.sum()} records with unexpected values:\")\n",
    "    display(df.loc[mask, 'improvement_surcharge'].value_counts())\n",
    "    \n",
    "    # replacing to the nearest expected value\n",
    "    most_common_value = df.loc[~mask, 'improvement_surcharge'].mode()[0]\n",
    "    df.loc[mask, 'improvement_surcharge'] = most_common_value\n",
    "    print(f\"fixed unexpected values by setting them to {most_common_value}\")"
   ]
  },
  {
   "cell_type": "code",
   "execution_count": 24,
   "id": "36705ab4-9e72-4bac-900d-37e91834bd37",
   "metadata": {},
   "outputs": [
    {
     "name": "stdout",
     "output_type": "stream",
     "text": [
      "congestion_surcharge value counts:\n"
     ]
    },
    {
     "data": {
      "text/plain": [
       "congestion_surcharge\n",
       "0.0     8370\n",
       "2.5    68031\n",
       "Name: count, dtype: int64"
      ]
     },
     "metadata": {},
     "output_type": "display_data"
    }
   ],
   "source": [
    "# congestion_surcharge\n",
    "# from NYC TLC regulations:\n",
    "# $2.50 for standard rides in congestion zone\n",
    "# $2.75 for shared rides\n",
    "# $0.00 for exempt trips or trips outside the congestion zone\n",
    "print(\"congestion_surcharge value counts:\")\n",
    "display(df['congestion_surcharge'].value_counts().sort_index())\n",
    "\n",
    "# checking for unexpected congestion surcharge vals\n",
    "expected_congestion_values = [0.0, 2.5, 2.75]\n",
    "mask = ~df['congestion_surcharge'].isin(expected_congestion_values)\n",
    "if mask.sum() > 0:\n",
    "    print(f\"{mask.sum()} records with unexpected vlaues:\")\n",
    "    display(df.loc[mask, 'congestion_surcharge'].value_counts())\n",
    "    \n",
    "    most_common_value = df.loc[~mask, 'congestion_surcharge'].mode()[0]\n",
    "    df.loc[mask, 'congestion_surcharge'] = most_common_value\n",
    "    print(f\"fixed unexpected values by setting them to {most_common_value}\")"
   ]
  },
  {
   "cell_type": "code",
   "execution_count": 25,
   "id": "bd92740c-bce1-4cae-b2e5-9494ffb4cf66",
   "metadata": {},
   "outputs": [
    {
     "name": "stdout",
     "output_type": "stream",
     "text": [
      "airport_fee value counts:\n"
     ]
    },
    {
     "data": {
      "text/plain": [
       "airport_fee\n",
       "0.00    66929\n",
       "1.25     9472\n",
       "Name: count, dtype: int64"
      ]
     },
     "metadata": {},
     "output_type": "display_data"
    }
   ],
   "source": [
    "# values for airport_fee\n",
    "# from NYC TLC regulations:\n",
    "# $1.25 for pickups at JFK or LaGuardia airports\n",
    "# $0.00 for all other trips\n",
    "print(\"airport_fee value counts:\")\n",
    "display(df['airport_fee'].value_counts().sort_index())\n",
    "\n",
    "# checking for unexpected airport fee vals\n",
    "expected_airport_values = [0.0, 1.25]\n",
    "mask = ~df['airport_fee'].isin(expected_airport_values)\n",
    "if mask.sum() > 0:\n",
    "    print(f\"{mask.sum()} records with unexpected airport_fee values:\")\n",
    "    display(df.loc[mask, 'airport_fee'].value_counts())\n",
    "    \n",
    "    most_common_value = df.loc[~mask, 'airport_fee'].mode()[0]\n",
    "    df.loc[mask, 'airport_fee'] = most_common_value\n",
    "    print(f\"Fixed unexpected values by setting them to {most_common_value}\")"
   ]
  },
  {
   "cell_type": "code",
   "execution_count": 26,
   "id": "f0d9a630-b6d8-4282-b024-0f8c1b2d57b6",
   "metadata": {},
   "outputs": [
    {
     "name": "stdout",
     "output_type": "stream",
     "text": [
      "17308 records where total_amount doesn't match the sum of components\n",
      "sample:\n"
     ]
    },
    {
     "data": {
      "text/html": [
       "<div>\n",
       "<style scoped>\n",
       "    .dataframe tbody tr th:only-of-type {\n",
       "        vertical-align: middle;\n",
       "    }\n",
       "\n",
       "    .dataframe tbody tr th {\n",
       "        vertical-align: top;\n",
       "    }\n",
       "\n",
       "    .dataframe thead th {\n",
       "        text-align: right;\n",
       "    }\n",
       "</style>\n",
       "<table border=\"1\" class=\"dataframe\">\n",
       "  <thead>\n",
       "    <tr style=\"text-align: right;\">\n",
       "      <th></th>\n",
       "      <th>total_amount</th>\n",
       "      <th>calculated_total</th>\n",
       "      <th>difference</th>\n",
       "    </tr>\n",
       "  </thead>\n",
       "  <tbody>\n",
       "    <tr>\n",
       "      <th>10</th>\n",
       "      <td>46.55</td>\n",
       "      <td>49.05</td>\n",
       "      <td>2.5</td>\n",
       "    </tr>\n",
       "    <tr>\n",
       "      <th>16</th>\n",
       "      <td>29.50</td>\n",
       "      <td>32.00</td>\n",
       "      <td>2.5</td>\n",
       "    </tr>\n",
       "    <tr>\n",
       "      <th>17</th>\n",
       "      <td>13.60</td>\n",
       "      <td>16.10</td>\n",
       "      <td>2.5</td>\n",
       "    </tr>\n",
       "    <tr>\n",
       "      <th>18</th>\n",
       "      <td>20.60</td>\n",
       "      <td>23.10</td>\n",
       "      <td>2.5</td>\n",
       "    </tr>\n",
       "    <tr>\n",
       "      <th>19</th>\n",
       "      <td>17.15</td>\n",
       "      <td>19.65</td>\n",
       "      <td>2.5</td>\n",
       "    </tr>\n",
       "  </tbody>\n",
       "</table>\n",
       "</div>"
      ],
      "text/plain": [
       "    total_amount  calculated_total  difference\n",
       "10         46.55             49.05         2.5\n",
       "16         29.50             32.00         2.5\n",
       "17         13.60             16.10         2.5\n",
       "18         20.60             23.10         2.5\n",
       "19         17.15             19.65         2.5"
      ]
     },
     "metadata": {},
     "output_type": "display_data"
    },
    {
     "name": "stdout",
     "output_type": "stream",
     "text": [
      "total amount fixed using calculated total amount\n"
     ]
    }
   ],
   "source": [
    "# correcting total_amount by checking against the sum of components\n",
    "\n",
    "component_columns = [\n",
    "    'fare_amount', 'extra', 'mta_tax', 'tip_amount', \n",
    "    'tolls_amount', 'improvement_surcharge', 'congestion_surcharge', 'airport_fee'\n",
    "]\n",
    "\n",
    "for col in component_columns:\n",
    "    if col in df.columns:\n",
    "        df[col] = pd.to_numeric(df[col], errors='coerce').fillna(0).round(2)\n",
    "\n",
    "# calculating the expected total\n",
    "df['calculated_total'] = df[component_columns].sum(axis=1).round(2)\n",
    "\n",
    "# comparing with the actual total_amount\n",
    "df['difference'] = (df['total_amount'] - df['calculated_total']).abs().round(2)\n",
    "\n",
    "# records with significant differences\n",
    "discrepancies = df[df['difference'] > 0.01]\n",
    "\n",
    "print(f\"{len(discrepancies)} records where total_amount doesn't match the sum of components\")\n",
    "if len(discrepancies) > 0:\n",
    "    print(\"sample:\")\n",
    "    display(discrepancies[['total_amount', 'calculated_total', 'difference']].head())\n",
    "    \n",
    "    df.loc[df['difference'] > 0.01, 'total_amount'] = df.loc[df['difference'] > 0.01, 'calculated_total']\n",
    "    print(\"total amount fixed using calculated total amount\")\n",
    "\n",
    "df = df.drop(['calculated_total', 'difference'], axis=1)"
   ]
  },
  {
   "cell_type": "code",
   "execution_count": 27,
   "id": "9778c32a-41c7-4a4a-bc43-6fad8cdbbf2f",
   "metadata": {},
   "outputs": [
    {
     "name": "stdout",
     "output_type": "stream",
     "text": [
      "cleaned data sample:\n"
     ]
    },
    {
     "data": {
      "text/html": [
       "<div>\n",
       "<style scoped>\n",
       "    .dataframe tbody tr th:only-of-type {\n",
       "        vertical-align: middle;\n",
       "    }\n",
       "\n",
       "    .dataframe tbody tr th {\n",
       "        vertical-align: top;\n",
       "    }\n",
       "\n",
       "    .dataframe thead th {\n",
       "        text-align: right;\n",
       "    }\n",
       "</style>\n",
       "<table border=\"1\" class=\"dataframe\">\n",
       "  <thead>\n",
       "    <tr style=\"text-align: right;\">\n",
       "      <th></th>\n",
       "      <th>Unnamed: 0</th>\n",
       "      <th>vendorid</th>\n",
       "      <th>passenger_count</th>\n",
       "      <th>trip_distance</th>\n",
       "      <th>pulocationid</th>\n",
       "      <th>dolocationid</th>\n",
       "      <th>payment_type</th>\n",
       "      <th>fare_amount</th>\n",
       "      <th>extra</th>\n",
       "      <th>mta_tax</th>\n",
       "      <th>...</th>\n",
       "      <th>tolls_amount</th>\n",
       "      <th>improvement_surcharge</th>\n",
       "      <th>total_amount</th>\n",
       "      <th>congestion_surcharge</th>\n",
       "      <th>airport_fee</th>\n",
       "      <th>pickup_date</th>\n",
       "      <th>pickup_time</th>\n",
       "      <th>dropoff_date</th>\n",
       "      <th>dropoff_time</th>\n",
       "      <th>rate_description</th>\n",
       "    </tr>\n",
       "  </thead>\n",
       "  <tbody>\n",
       "    <tr>\n",
       "      <th>0</th>\n",
       "      <td>0</td>\n",
       "      <td>2</td>\n",
       "      <td>1</td>\n",
       "      <td>0.97</td>\n",
       "      <td>161</td>\n",
       "      <td>141</td>\n",
       "      <td>Cash</td>\n",
       "      <td>9.3</td>\n",
       "      <td>1.0</td>\n",
       "      <td>0.5</td>\n",
       "      <td>...</td>\n",
       "      <td>0.0</td>\n",
       "      <td>1.0</td>\n",
       "      <td>14.30</td>\n",
       "      <td>2.5</td>\n",
       "      <td>0.0</td>\n",
       "      <td>01/01/2023</td>\n",
       "      <td>00:32:10</td>\n",
       "      <td>01/01/2023</td>\n",
       "      <td>00:40:36</td>\n",
       "      <td>Standard rate</td>\n",
       "    </tr>\n",
       "    <tr>\n",
       "      <th>1</th>\n",
       "      <td>1</td>\n",
       "      <td>2</td>\n",
       "      <td>1</td>\n",
       "      <td>1.10</td>\n",
       "      <td>43</td>\n",
       "      <td>237</td>\n",
       "      <td>Credit Card</td>\n",
       "      <td>7.9</td>\n",
       "      <td>1.0</td>\n",
       "      <td>0.5</td>\n",
       "      <td>...</td>\n",
       "      <td>0.0</td>\n",
       "      <td>1.0</td>\n",
       "      <td>16.90</td>\n",
       "      <td>2.5</td>\n",
       "      <td>0.0</td>\n",
       "      <td>01/01/2023</td>\n",
       "      <td>00:55:08</td>\n",
       "      <td>01/01/2023</td>\n",
       "      <td>01:01:27</td>\n",
       "      <td>Standard rate</td>\n",
       "    </tr>\n",
       "    <tr>\n",
       "      <th>2</th>\n",
       "      <td>2</td>\n",
       "      <td>2</td>\n",
       "      <td>1</td>\n",
       "      <td>2.51</td>\n",
       "      <td>48</td>\n",
       "      <td>238</td>\n",
       "      <td>Credit Card</td>\n",
       "      <td>14.9</td>\n",
       "      <td>1.0</td>\n",
       "      <td>0.5</td>\n",
       "      <td>...</td>\n",
       "      <td>0.0</td>\n",
       "      <td>1.0</td>\n",
       "      <td>34.90</td>\n",
       "      <td>2.5</td>\n",
       "      <td>0.0</td>\n",
       "      <td>01/01/2023</td>\n",
       "      <td>00:25:04</td>\n",
       "      <td>01/01/2023</td>\n",
       "      <td>00:37:49</td>\n",
       "      <td>Standard rate</td>\n",
       "    </tr>\n",
       "    <tr>\n",
       "      <th>3</th>\n",
       "      <td>4</td>\n",
       "      <td>2</td>\n",
       "      <td>1</td>\n",
       "      <td>1.43</td>\n",
       "      <td>107</td>\n",
       "      <td>79</td>\n",
       "      <td>Credit Card</td>\n",
       "      <td>11.4</td>\n",
       "      <td>1.0</td>\n",
       "      <td>0.5</td>\n",
       "      <td>...</td>\n",
       "      <td>0.0</td>\n",
       "      <td>1.0</td>\n",
       "      <td>19.68</td>\n",
       "      <td>2.5</td>\n",
       "      <td>0.0</td>\n",
       "      <td>01/01/2023</td>\n",
       "      <td>00:10:29</td>\n",
       "      <td>01/01/2023</td>\n",
       "      <td>00:21:19</td>\n",
       "      <td>Standard rate</td>\n",
       "    </tr>\n",
       "    <tr>\n",
       "      <th>4</th>\n",
       "      <td>5</td>\n",
       "      <td>2</td>\n",
       "      <td>1</td>\n",
       "      <td>1.84</td>\n",
       "      <td>161</td>\n",
       "      <td>137</td>\n",
       "      <td>Credit Card</td>\n",
       "      <td>12.8</td>\n",
       "      <td>1.0</td>\n",
       "      <td>0.5</td>\n",
       "      <td>...</td>\n",
       "      <td>0.0</td>\n",
       "      <td>1.0</td>\n",
       "      <td>27.80</td>\n",
       "      <td>2.5</td>\n",
       "      <td>0.0</td>\n",
       "      <td>01/01/2023</td>\n",
       "      <td>00:50:34</td>\n",
       "      <td>01/01/2023</td>\n",
       "      <td>01:02:52</td>\n",
       "      <td>Standard rate</td>\n",
       "    </tr>\n",
       "  </tbody>\n",
       "</table>\n",
       "<p>5 rows × 21 columns</p>\n",
       "</div>"
      ],
      "text/plain": [
       "   Unnamed: 0  vendorid  passenger_count  trip_distance  pulocationid  \\\n",
       "0           0         2                1           0.97           161   \n",
       "1           1         2                1           1.10            43   \n",
       "2           2         2                1           2.51            48   \n",
       "3           4         2                1           1.43           107   \n",
       "4           5         2                1           1.84           161   \n",
       "\n",
       "   dolocationid payment_type  fare_amount  extra  mta_tax  ...  tolls_amount  \\\n",
       "0           141         Cash          9.3    1.0      0.5  ...           0.0   \n",
       "1           237  Credit Card          7.9    1.0      0.5  ...           0.0   \n",
       "2           238  Credit Card         14.9    1.0      0.5  ...           0.0   \n",
       "3            79  Credit Card         11.4    1.0      0.5  ...           0.0   \n",
       "4           137  Credit Card         12.8    1.0      0.5  ...           0.0   \n",
       "\n",
       "   improvement_surcharge  total_amount  congestion_surcharge  airport_fee  \\\n",
       "0                    1.0         14.30                   2.5          0.0   \n",
       "1                    1.0         16.90                   2.5          0.0   \n",
       "2                    1.0         34.90                   2.5          0.0   \n",
       "3                    1.0         19.68                   2.5          0.0   \n",
       "4                    1.0         27.80                   2.5          0.0   \n",
       "\n",
       "   pickup_date pickup_time dropoff_date dropoff_time rate_description  \n",
       "0   01/01/2023    00:32:10   01/01/2023     00:40:36    Standard rate  \n",
       "1   01/01/2023    00:55:08   01/01/2023     01:01:27    Standard rate  \n",
       "2   01/01/2023    00:25:04   01/01/2023     00:37:49    Standard rate  \n",
       "3   01/01/2023    00:10:29   01/01/2023     00:21:19    Standard rate  \n",
       "4   01/01/2023    00:50:34   01/01/2023     01:02:52    Standard rate  \n",
       "\n",
       "[5 rows x 21 columns]"
      ]
     },
     "metadata": {},
     "output_type": "display_data"
    },
    {
     "name": "stdout",
     "output_type": "stream",
     "text": [
      "\n",
      "decimal precision in columns:\n"
     ]
    },
    {
     "data": {
      "text/html": [
       "<div>\n",
       "<style scoped>\n",
       "    .dataframe tbody tr th:only-of-type {\n",
       "        vertical-align: middle;\n",
       "    }\n",
       "\n",
       "    .dataframe tbody tr th {\n",
       "        vertical-align: top;\n",
       "    }\n",
       "\n",
       "    .dataframe thead th {\n",
       "        text-align: right;\n",
       "    }\n",
       "</style>\n",
       "<table border=\"1\" class=\"dataframe\">\n",
       "  <thead>\n",
       "    <tr style=\"text-align: right;\">\n",
       "      <th></th>\n",
       "      <th>fare_amount</th>\n",
       "      <th>extra</th>\n",
       "      <th>mta_tax</th>\n",
       "      <th>tip_amount</th>\n",
       "      <th>tolls_amount</th>\n",
       "      <th>improvement_surcharge</th>\n",
       "      <th>total_amount</th>\n",
       "      <th>congestion_surcharge</th>\n",
       "      <th>airport_fee</th>\n",
       "    </tr>\n",
       "  </thead>\n",
       "  <tbody>\n",
       "    <tr>\n",
       "      <th>0</th>\n",
       "      <td>9.3</td>\n",
       "      <td>1.0</td>\n",
       "      <td>0.5</td>\n",
       "      <td>0.00</td>\n",
       "      <td>0.0</td>\n",
       "      <td>1.0</td>\n",
       "      <td>14.30</td>\n",
       "      <td>2.5</td>\n",
       "      <td>0.0</td>\n",
       "    </tr>\n",
       "    <tr>\n",
       "      <th>1</th>\n",
       "      <td>7.9</td>\n",
       "      <td>1.0</td>\n",
       "      <td>0.5</td>\n",
       "      <td>4.00</td>\n",
       "      <td>0.0</td>\n",
       "      <td>1.0</td>\n",
       "      <td>16.90</td>\n",
       "      <td>2.5</td>\n",
       "      <td>0.0</td>\n",
       "    </tr>\n",
       "    <tr>\n",
       "      <th>2</th>\n",
       "      <td>14.9</td>\n",
       "      <td>1.0</td>\n",
       "      <td>0.5</td>\n",
       "      <td>15.00</td>\n",
       "      <td>0.0</td>\n",
       "      <td>1.0</td>\n",
       "      <td>34.90</td>\n",
       "      <td>2.5</td>\n",
       "      <td>0.0</td>\n",
       "    </tr>\n",
       "    <tr>\n",
       "      <th>3</th>\n",
       "      <td>11.4</td>\n",
       "      <td>1.0</td>\n",
       "      <td>0.5</td>\n",
       "      <td>3.28</td>\n",
       "      <td>0.0</td>\n",
       "      <td>1.0</td>\n",
       "      <td>19.68</td>\n",
       "      <td>2.5</td>\n",
       "      <td>0.0</td>\n",
       "    </tr>\n",
       "    <tr>\n",
       "      <th>4</th>\n",
       "      <td>12.8</td>\n",
       "      <td>1.0</td>\n",
       "      <td>0.5</td>\n",
       "      <td>10.00</td>\n",
       "      <td>0.0</td>\n",
       "      <td>1.0</td>\n",
       "      <td>27.80</td>\n",
       "      <td>2.5</td>\n",
       "      <td>0.0</td>\n",
       "    </tr>\n",
       "  </tbody>\n",
       "</table>\n",
       "</div>"
      ],
      "text/plain": [
       "   fare_amount  extra  mta_tax  tip_amount  tolls_amount  \\\n",
       "0          9.3    1.0      0.5        0.00           0.0   \n",
       "1          7.9    1.0      0.5        4.00           0.0   \n",
       "2         14.9    1.0      0.5       15.00           0.0   \n",
       "3         11.4    1.0      0.5        3.28           0.0   \n",
       "4         12.8    1.0      0.5       10.00           0.0   \n",
       "\n",
       "   improvement_surcharge  total_amount  congestion_surcharge  airport_fee  \n",
       "0                    1.0         14.30                   2.5          0.0  \n",
       "1                    1.0         16.90                   2.5          0.0  \n",
       "2                    1.0         34.90                   2.5          0.0  \n",
       "3                    1.0         19.68                   2.5          0.0  \n",
       "4                    1.0         27.80                   2.5          0.0  "
      ]
     },
     "metadata": {},
     "output_type": "display_data"
    }
   ],
   "source": [
    "print(\"cleaned data sample:\")\n",
    "display(df.head())\n",
    "\n",
    "monetary_columns = [\n",
    "    'fare_amount', 'extra', 'mta_tax', 'tip_amount', \n",
    "    'tolls_amount', 'improvement_surcharge', 'total_amount', \n",
    "    'congestion_surcharge', 'airport_fee'\n",
    "]\n",
    "\n",
    "# rounding to have 2 decimal places\n",
    "for col in monetary_columns:\n",
    "    if col in df.columns:\n",
    "        df[col] = df[col].round(2)\n",
    "\n",
    "print(\"\\ndecimal precision in columns:\")\n",
    "display(df[monetary_columns].head())\n"
   ]
  },
  {
   "cell_type": "code",
   "execution_count": 28,
   "id": "8d7d9b55-952f-42ab-9d98-c07c4df50be7",
   "metadata": {},
   "outputs": [],
   "source": [
    "df.to_csv('nyc_taxi_cleaned_data.csv', index=False)"
   ]
  },
  {
   "cell_type": "code",
   "execution_count": null,
   "id": "463c5c81-bf15-4ad6-981a-03c26b8256f7",
   "metadata": {},
   "outputs": [],
   "source": []
  },
  {
   "cell_type": "code",
   "execution_count": null,
   "id": "9ffa5ab4-7a03-471e-98fc-3236b3c91761",
   "metadata": {},
   "outputs": [],
   "source": []
  },
  {
   "cell_type": "code",
   "execution_count": null,
   "id": "44b6a8e1-085f-46b9-8d8b-fe2cc597a5cf",
   "metadata": {},
   "outputs": [],
   "source": []
  }
 ],
 "metadata": {
  "kernelspec": {
   "display_name": "Python (daen328_env)",
   "language": "python",
   "name": "daen328_env"
  },
  "language_info": {
   "codemirror_mode": {
    "name": "ipython",
    "version": 3
   },
   "file_extension": ".py",
   "mimetype": "text/x-python",
   "name": "python",
   "nbconvert_exporter": "python",
   "pygments_lexer": "ipython3",
   "version": "3.12.4"
  }
 },
 "nbformat": 4,
 "nbformat_minor": 5
}
