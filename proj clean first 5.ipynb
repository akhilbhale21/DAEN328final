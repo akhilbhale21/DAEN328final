{
 "cells": [
  {
   "cell_type": "code",
   "execution_count": 1,
   "id": "2db4f2bb-eaec-4330-8016-cb38c4253c6c",
   "metadata": {},
   "outputs": [],
   "source": [
    "## Display in Notebook\n",
    "from IPython.core.interactiveshell import InteractiveShell\n",
    "InteractiveShell.ast_node_interactivity = \"all\"\n",
    "\n",
    "\n",
    "import pandas as pd\n",
    "pd.set_option('display.max_rows', None)  # Show all rows\n",
    "pd.set_option('display.max_colwidth', None)  # Show full column width\n",
    "\n",
    "import numpy as np\n",
    "import os\n",
    "from collections import Counter\n",
    "from sqlalchemy import create_engine\n",
    "import re\n",
    "from sklearn.feature_extraction.text import CountVectorizer"
   ]
  },
  {
   "cell_type": "code",
   "execution_count": 2,
   "id": "7049bfbd-bb5f-4515-8af3-2a843a06d025",
   "metadata": {},
   "outputs": [
    {
     "name": "stdout",
     "output_type": "stream",
     "text": [
      "Data loaded successfully!\n",
      "<class 'pandas.core.frame.DataFrame'>\n",
      "RangeIndex: 80000 entries, 0 to 79999\n",
      "Data columns (total 20 columns):\n",
      " #   Column                 Non-Null Count  Dtype  \n",
      "---  ------                 --------------  -----  \n",
      " 0   Unnamed: 0             80000 non-null  int64  \n",
      " 1   vendorid               80000 non-null  int64  \n",
      " 2   tpep_pickup_datetime   80000 non-null  object \n",
      " 3   tpep_dropoff_datetime  80000 non-null  object \n",
      " 4   passenger_count        80000 non-null  int64  \n",
      " 5   trip_distance          80000 non-null  float64\n",
      " 6   ratecodeid             80000 non-null  int64  \n",
      " 7   store_and_fwd_flag     80000 non-null  object \n",
      " 8   pulocationid           80000 non-null  int64  \n",
      " 9   dolocationid           80000 non-null  int64  \n",
      " 10  payment_type           80000 non-null  int64  \n",
      " 11  fare_amount            80000 non-null  float64\n",
      " 12  extra                  80000 non-null  float64\n",
      " 13  mta_tax                80000 non-null  float64\n",
      " 14  tip_amount             80000 non-null  float64\n",
      " 15  tolls_amount           80000 non-null  float64\n",
      " 16  improvement_surcharge  80000 non-null  float64\n",
      " 17  total_amount           80000 non-null  float64\n",
      " 18  congestion_surcharge   80000 non-null  float64\n",
      " 19  airport_fee            80000 non-null  float64\n",
      "dtypes: float64(10), int64(7), object(3)\n",
      "memory usage: 12.2+ MB\n"
     ]
    }
   ],
   "source": [
    "df = pd.read_csv('/Users/leisha/Documents/DAEN 328/final project/nyc_taxi.csv')\n",
    "print(\"Data loaded successfully!\")\n",
    "df.info()  # Display DataFrame information"
   ]
  },
  {
   "cell_type": "code",
   "execution_count": 5,
   "id": "6a01b102-b9f5-4e7c-b651-ac1734fe6197",
   "metadata": {},
   "outputs": [
    {
     "name": "stdout",
     "output_type": "stream",
     "text": [
      "Number unique rows: 80000\n"
     ]
    }
   ],
   "source": [
    "#drop duplicates- if any exist\n",
    "df = df.drop_duplicates()\n",
    "print(f'Number unique rows: {len(df)}')"
   ]
  },
  {
   "cell_type": "code",
   "execution_count": 6,
   "id": "0d28a103-ab5a-4714-a10d-55b007c1f301",
   "metadata": {},
   "outputs": [
    {
     "name": "stdout",
     "output_type": "stream",
     "text": [
      " Number of Rows with Missing Values: 0\n",
      "\n",
      " Missing Values Count Per Column (Before Cleaning):\n",
      "Unnamed: 0               0\n",
      "vendorid                 0\n",
      "tpep_pickup_datetime     0\n",
      "tpep_dropoff_datetime    0\n",
      "passenger_count          0\n",
      "trip_distance            0\n",
      "ratecodeid               0\n",
      "store_and_fwd_flag       0\n",
      "pulocationid             0\n",
      "dolocationid             0\n",
      "payment_type             0\n",
      "fare_amount              0\n",
      "extra                    0\n",
      "mta_tax                  0\n",
      "tip_amount               0\n",
      "tolls_amount             0\n",
      "improvement_surcharge    0\n",
      "total_amount             0\n",
      "congestion_surcharge     0\n",
      "airport_fee              0\n",
      "dtype: int64\n"
     ]
    }
   ],
   "source": [
    "# Step 2: Identify and Standardize Missing Values\n",
    "\n",
    "# Replace all NaN values with Pandas' NA representation\n",
    "df = df.replace({np.nan: pd.NA})\n",
    "\n",
    "# Count the number of missing values in each column\n",
    "missing_values = df.isna().sum()\n",
    "\n",
    "# Count the number of rows with at least one missing value\n",
    "num_rows_with_missing = df.isnull().any(axis=1).sum()\n",
    "\n",
    "# Display results\n",
    "print(f\" Number of Rows with Missing Values: {num_rows_with_missing}\\n\")\n",
    "\n",
    "print(\" Missing Values Count Per Column (Before Cleaning):\")\n",
    "print(missing_values)"
   ]
  },
  {
   "cell_type": "code",
   "execution_count": 7,
   "id": "a1e9a5e3-551a-4e49-b98e-6d081b0671fb",
   "metadata": {},
   "outputs": [
    {
     "name": "stdout",
     "output_type": "stream",
     "text": [
      "       tpep_pickup_datetime\n",
      "0   2023-01-01T00:32:10.000\n",
      "1   2023-01-01T00:55:08.000\n",
      "2   2023-01-01T00:25:04.000\n",
      "3   2023-01-01T00:03:48.000\n",
      "4   2023-01-01T00:10:29.000\n",
      "5   2023-01-01T00:50:34.000\n",
      "6   2023-01-01T00:09:22.000\n",
      "7   2023-01-01T00:27:12.000\n",
      "8   2023-01-01T00:21:44.000\n",
      "9   2023-01-01T00:39:42.000\n",
      "10  2023-01-01T00:53:01.000\n",
      "11  2023-01-01T00:43:37.000\n",
      "12  2023-01-01T00:34:44.000\n",
      "13  2023-01-01T00:09:29.000\n",
      "14  2023-01-01T00:33:53.000\n",
      "15  2023-01-01T00:13:04.000\n",
      "16  2023-01-01T00:45:11.000\n",
      "17  2023-01-01T00:04:33.000\n",
      "18  2023-01-01T00:03:36.000\n",
      "19  2023-01-01T00:15:23.000\n"
     ]
    }
   ],
   "source": [
    "print(df[['tpep_pickup_datetime']].head(20))"
   ]
  },
  {
   "cell_type": "code",
   "execution_count": 12,
   "id": "213d9129-466a-48aa-a753-afca58de5daa",
   "metadata": {},
   "outputs": [
    {
     "name": "stdout",
     "output_type": "stream",
     "text": [
      "  tpep_pickup_datetime pickup_date pickup_time\n",
      "0  2023-01-01 00:32:10  01/01/2023    00:32:10\n",
      "1  2023-01-01 00:55:08  01/01/2023    00:55:08\n",
      "2  2023-01-01 00:25:04  01/01/2023    00:25:04\n",
      "3  2023-01-01 00:03:48  01/01/2023    00:03:48\n",
      "4  2023-01-01 00:10:29  01/01/2023    00:10:29\n",
      "5  2023-01-01 00:50:34  01/01/2023    00:50:34\n",
      "6  2023-01-01 00:09:22  01/01/2023    00:09:22\n",
      "7  2023-01-01 00:27:12  01/01/2023    00:27:12\n",
      "8  2023-01-01 00:21:44  01/01/2023    00:21:44\n",
      "9  2023-01-01 00:39:42  01/01/2023    00:39:42\n"
     ]
    }
   ],
   "source": [
    "import pandas as pd\n",
    "\n",
    "# Your function\n",
    "def standardize_birthdate(date):\n",
    "    try:\n",
    "        if pd.isna(date) or date in [\"None\", \"nan\", \"\"]:  # Handle missing values\n",
    "            return \"01/01/2000\"\n",
    "        \n",
    "        date = str(date).strip()\n",
    "        if \".\" in date:  # If the format is YYYY.MM.DD\n",
    "            return pd.to_datetime(date, format=\"%Y.%m.%d\").strftime(\"%m/%d/%Y\")\n",
    "        else:  # Assume the format is already a valid date\n",
    "            return pd.to_datetime(date).strftime(\"%m/%d/%Y\")\n",
    "    except:\n",
    "        return \"01/01/2000\"  # Replace invalid dates with default\n",
    "\n",
    "# Convert datetime column to datetime dtype if it's not already\n",
    "df['tpep_pickup_datetime'] = pd.to_datetime(df['tpep_pickup_datetime'], errors='coerce')\n",
    "\n",
    "# Split into date and time\n",
    "df['pickup_date'] = df['tpep_pickup_datetime'].dt.date.astype(str)\n",
    "df['pickup_time'] = df['tpep_pickup_datetime'].dt.time.astype(str)\n",
    "\n",
    "# Standardize the date format\n",
    "df['pickup_date'] = df['pickup_date'].apply(standardize_birthdate)\n",
    "\n",
    "# Final output\n",
    "print(df[['tpep_pickup_datetime', 'pickup_date', 'pickup_time']].head(10))\n"
   ]
  },
  {
   "cell_type": "code",
   "execution_count": 13,
   "id": "b20ccce3-0be1-48dd-bd3e-5692d814261f",
   "metadata": {},
   "outputs": [
    {
     "name": "stdout",
     "output_type": "stream",
     "text": [
      "  tpep_dropoff_datetime dropoff_date dropoff_time\n",
      "0   2023-01-01 00:40:36   01/01/2023     00:40:36\n",
      "1   2023-01-01 01:01:27   01/01/2023     01:01:27\n",
      "2   2023-01-01 00:37:49   01/01/2023     00:37:49\n",
      "3   2023-01-01 00:13:25   01/01/2023     00:13:25\n",
      "4   2023-01-01 00:21:19   01/01/2023     00:21:19\n",
      "5   2023-01-01 01:02:52   01/01/2023     01:02:52\n",
      "6   2023-01-01 00:19:49   01/01/2023     00:19:49\n",
      "7   2023-01-01 00:49:56   01/01/2023     00:49:56\n",
      "8   2023-01-01 00:36:40   01/01/2023     00:36:40\n",
      "9   2023-01-01 00:50:36   01/01/2023     00:50:36\n"
     ]
    }
   ],
   "source": [
    "# Convert datetime column to datetime dtype if it's not already\n",
    "df['tpep_dropoff_datetime'] = pd.to_datetime(df['tpep_dropoff_datetime'], errors='coerce')\n",
    "\n",
    "# Split into date and time\n",
    "df['dropoff_date'] = df['tpep_dropoff_datetime'].dt.date.astype(str)\n",
    "df['dropoff_time'] = df['tpep_dropoff_datetime'].dt.time.astype(str)\n",
    "\n",
    "# Standardize the date format\n",
    "df['dropoff_date'] = df['dropoff_date'].apply(standardize_birthdate)\n",
    "\n",
    "# Final output\n",
    "print(df[['tpep_dropoff_datetime', 'dropoff_date', 'dropoff_time']].head(10))"
   ]
  },
  {
   "cell_type": "code",
   "execution_count": null,
   "id": "0f74a3ae-fbbc-4401-99f3-02fadde96bb4",
   "metadata": {},
   "outputs": [],
   "source": []
  },
  {
   "cell_type": "code",
   "execution_count": 16,
   "id": "24d0ac1b-71c1-469a-bc95-27d3bd5f5fa6",
   "metadata": {},
   "outputs": [
    {
     "name": "stdout",
     "output_type": "stream",
     "text": [
      "   vendorid\n",
      "0         2\n",
      "1         2\n",
      "2         2\n",
      "3         1\n",
      "4         2\n",
      "5         2\n",
      "6         2\n",
      "7         2\n",
      "8         2\n",
      "9         2\n",
      "Empty DataFrame\n",
      "Columns: [vendorid]\n",
      "Index: []\n"
     ]
    }
   ],
   "source": [
    "print(df[['vendorid']].head(10))\n",
    "# Check for vendorid values not equal to 1 or 2\n",
    "invalid_vendor_ids = df[~df['vendorid'].isin([1, 2])]\n",
    "\n",
    "# Display them (if any)\n",
    "print(invalid_vendor_ids[['vendorid']])\n",
    "\n",
    "#vendorid is already clean"
   ]
  },
  {
   "cell_type": "code",
   "execution_count": 25,
   "id": "d40268ce-9c12-4f09-a74e-b01897ad7d21",
   "metadata": {},
   "outputs": [
    {
     "name": "stdout",
     "output_type": "stream",
     "text": [
      "   passenger_count\n",
      "0                1\n",
      "1                1\n",
      "2                1\n",
      "3                1\n",
      "4                1\n",
      "5                1\n",
      "6                1\n",
      "7                1\n",
      "8                1\n",
      "9                1\n",
      "Number of invalid passenger counts: 0\n"
     ]
    }
   ],
   "source": [
    "print(df[['passenger_count']].head(10))\n",
    "# Find rows where passenger_count is not between 1 and 6\n",
    "invalid_passenger_counts = df[~df['passenger_count'].between(1, 6)]\n",
    "print(\"Number of invalid passenger counts:\", len(invalid_passenger_counts))"
   ]
  },
  {
   "cell_type": "code",
   "execution_count": 26,
   "id": "da3eda66-1908-4728-8a25-5deb8151fe5d",
   "metadata": {},
   "outputs": [],
   "source": [
    "# Remove rows where passenger_count is 0\n",
    "df = df[df['passenger_count'] != 0]\n",
    "\n",
    "# Optional: Reset the index if you want a clean index after removal\n",
    "df.reset_index(drop=True, inplace=True)"
   ]
  },
  {
   "cell_type": "code",
   "execution_count": 27,
   "id": "11df1370-f659-4e50-aede-cc017eb93b1c",
   "metadata": {},
   "outputs": [
    {
     "name": "stdout",
     "output_type": "stream",
     "text": [
      "Number of invalid passenger counts: 0\n"
     ]
    }
   ],
   "source": [
    "#count invalid passenger_counts again to check if dataset is clean\n",
    "invalid_passenger_counts = df[~df['passenger_count'].between(1, 6)]\n",
    "print(\"Number of invalid passenger counts:\", len(invalid_passenger_counts))"
   ]
  },
  {
   "cell_type": "code",
   "execution_count": 28,
   "id": "167e5d63-2f1c-48aa-a986-b32a015e5934",
   "metadata": {},
   "outputs": [
    {
     "name": "stdout",
     "output_type": "stream",
     "text": [
      "   trip_distance\n",
      "0           0.97\n",
      "1           1.10\n",
      "2           2.51\n",
      "3           1.43\n",
      "4           1.84\n",
      "5           1.66\n",
      "6          11.70\n",
      "7           2.95\n",
      "8           3.01\n",
      "9           1.80\n"
     ]
    }
   ],
   "source": [
    "print(df[['trip_distance']].head(10))"
   ]
  },
  {
   "cell_type": "code",
   "execution_count": 29,
   "id": "300266cc-7dee-484b-9ab1-3c9bf33e62f3",
   "metadata": {},
   "outputs": [
    {
     "name": "stdout",
     "output_type": "stream",
     "text": [
      "Number of rows with trip_distance = 0: 1441\n"
     ]
    }
   ],
   "source": [
    "# Count rows where trip_distance is 0\n",
    "zero_distance_count = (df['trip_distance'] == 0).sum()\n",
    "print(\"Number of rows with trip_distance = 0:\", zero_distance_count)\n"
   ]
  },
  {
   "cell_type": "code",
   "execution_count": 31,
   "id": "56d35ffe-f454-4a87-a149-c6039ecd9a0e",
   "metadata": {},
   "outputs": [
    {
     "name": "stdout",
     "output_type": "stream",
     "text": [
      "Number of rows with trip_distance = 0: 0\n"
     ]
    }
   ],
   "source": [
    "# Remove rows where trip_distance is 0\n",
    "df = df[df['trip_distance'] != 0]\n",
    "\n",
    "# Optional: Reset the index if you want a clean index after removal\n",
    "df.reset_index(drop=True, inplace=True)\n",
    "\n",
    "zero_distance_count = (df['trip_distance'] == 0).sum()\n",
    "print(\"Number of rows with trip_distance = 0:\", zero_distance_count)"
   ]
  },
  {
   "cell_type": "code",
   "execution_count": 32,
   "id": "d8e14e29-58d8-4ef0-abeb-711e04bb9e77",
   "metadata": {},
   "outputs": [
    {
     "name": "stdout",
     "output_type": "stream",
     "text": [
      "      tpep_pickup_datetime tpep_dropoff_datetime\n",
      "44855  2023-01-01 15:51:30   2023-01-01 15:51:30\n",
      "Number of rows where dropoff is not after pickup: 1\n"
     ]
    }
   ],
   "source": [
    "# Ensure the datetime columns are in proper datetime format\n",
    "df['tpep_pickup_datetime'] = pd.to_datetime(df['tpep_pickup_datetime'], errors='coerce')\n",
    "df['tpep_dropoff_datetime'] = pd.to_datetime(df['tpep_dropoff_datetime'], errors='coerce')\n",
    "\n",
    "# Find rows where dropoff is not after pickup\n",
    "invalid_datetime_rows = df[df['tpep_dropoff_datetime'] <= df['tpep_pickup_datetime']]\n",
    "\n",
    "# Display the rows\n",
    "print(invalid_datetime_rows[['tpep_pickup_datetime', 'tpep_dropoff_datetime']])\n",
    "\n",
    "# Optional: Count how many\n",
    "print(\"Number of rows where dropoff is not after pickup:\", len(invalid_datetime_rows))\n"
   ]
  },
  {
   "cell_type": "code",
   "execution_count": 33,
   "id": "6a0b1786-002e-4cfa-967a-fc7e59ea5edb",
   "metadata": {},
   "outputs": [],
   "source": [
    "# Remove rows where dropoff is not after pickup\n",
    "df = df[df['tpep_dropoff_datetime'] > df['tpep_pickup_datetime']]\n",
    "\n",
    "# Optional: Reset index\n",
    "df.reset_index(drop=True, inplace=True)\n"
   ]
  },
  {
   "cell_type": "code",
   "execution_count": null,
   "id": "96cd03c3-20cf-408f-b2d7-17b9db3d1d8e",
   "metadata": {},
   "outputs": [],
   "source": []
  },
  {
   "cell_type": "code",
   "execution_count": null,
   "id": "64f321c9-d7e8-4a82-8cf9-b5422c745d6f",
   "metadata": {},
   "outputs": [],
   "source": []
  }
 ],
 "metadata": {
  "kernelspec": {
   "display_name": "Python (daen328_env)",
   "language": "python",
   "name": "daen328_env"
  },
  "language_info": {
   "codemirror_mode": {
    "name": "ipython",
    "version": 3
   },
   "file_extension": ".py",
   "mimetype": "text/x-python",
   "name": "python",
   "nbconvert_exporter": "python",
   "pygments_lexer": "ipython3",
   "version": "3.12.4"
  }
 },
 "nbformat": 4,
 "nbformat_minor": 5
}
