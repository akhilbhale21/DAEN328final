{
 "cells": [
  {
   "cell_type": "code",
   "execution_count": 2,
   "metadata": {},
   "outputs": [],
   "source": [
    "import pandas as pd\n",
    "import os\n",
    "from sqlalchemy import create_engine, text\n",
    "import psycopg2\n",
    "from psycopg2.extensions import ISOLATION_LEVEL_AUTOCOMMIT"
   ]
  },
  {
   "cell_type": "code",
   "execution_count": 3,
   "metadata": {},
   "outputs": [
    {
     "name": "stdout",
     "output_type": "stream",
     "text": [
      "database: Host=localhost, Port=5433, DB=taxi_data\n"
     ]
    }
   ],
   "source": [
    "DB_HOST = 'localhost'  \n",
    "DB_PORT = '5433'      \n",
    "DB_NAME = 'taxi_data'  \n",
    "DB_USER = 'postgres'  \n",
    "DB_PASSWORD = 'admin' \n",
    "\n",
    "print(f\"database: Host={DB_HOST}, Port={DB_PORT}, DB={DB_NAME}\")"
   ]
  },
  {
   "cell_type": "code",
   "execution_count": 4,
   "metadata": {},
   "outputs": [
    {
     "name": "stdout",
     "output_type": "stream",
     "text": [
      "Database taxi_data already exists\n"
     ]
    },
    {
     "data": {
      "text/plain": [
       "True"
      ]
     },
     "execution_count": 4,
     "metadata": {},
     "output_type": "execute_result"
    }
   ],
   "source": [
    "# creating the databse\n",
    "def create_database():\n",
    "    try:\n",
    "        # connecting to PostgreSQL server\n",
    "        conn = psycopg2.connect(\n",
    "            host=DB_HOST,\n",
    "            port=DB_PORT,\n",
    "            user=DB_USER,\n",
    "            password=DB_PASSWORD\n",
    "        )\n",
    "        conn.set_isolation_level(ISOLATION_LEVEL_AUTOCOMMIT)\n",
    "        cursor = conn.cursor()\n",
    "        \n",
    "        # checking if database exists\n",
    "        cursor.execute(f\"SELECT 1 FROM pg_catalog.pg_database WHERE datname = '{DB_NAME}'\")\n",
    "        exists = cursor.fetchone()\n",
    "        \n",
    "        if not exists:\n",
    "            cursor.execute(f'CREATE DATABASE {DB_NAME}')\n",
    "            print(f\"database {DB_NAME} created successfully\")\n",
    "        else:\n",
    "            print(f\"Database {DB_NAME} already exists\")\n",
    "            \n",
    "        cursor.close()\n",
    "        conn.close()\n",
    "        return True\n",
    "    except Exception as e:\n",
    "        print(f\"error creating database: {e}\")\n",
    "        return False\n",
    "\n",
    "db_created = create_database()\n",
    "db_created"
   ]
  },
  {
   "cell_type": "code",
   "execution_count": 5,
   "metadata": {},
   "outputs": [
    {
     "name": "stdout",
     "output_type": "stream",
     "text": [
      "table 'taxi_trips' created\n"
     ]
    },
    {
     "data": {
      "text/plain": [
       "True"
      ]
     },
     "execution_count": 5,
     "metadata": {},
     "output_type": "execute_result"
    }
   ],
   "source": [
    "# tables\n",
    "def create_tables(engine):\n",
    "    try:\n",
    "        create_table_query = \"\"\"\n",
    "        CREATE TABLE IF NOT EXISTS taxi_trips (\n",
    "            id SERIAL PRIMARY KEY,\n",
    "            vendorid VARCHAR(10),\n",
    "            tpep_pickup_datetime TIMESTAMP,\n",
    "            tpep_dropoff_datetime TIMESTAMP,\n",
    "            passenger_count NUMERIC,\n",
    "            trip_distance NUMERIC,\n",
    "            ratecodeid NUMERIC,\n",
    "            pulocationid VARCHAR(10),\n",
    "            dolocationid VARCHAR(10),\n",
    "            payment_type VARCHAR(10),\n",
    "            fare_amount NUMERIC(10, 2),\n",
    "            extra NUMERIC(10, 2),\n",
    "            mta_tax NUMERIC(10, 2),\n",
    "            tip_amount NUMERIC(10, 2),\n",
    "            tolls_amount NUMERIC(10, 2),\n",
    "            improvement_surcharge NUMERIC(10, 2),\n",
    "            total_amount NUMERIC(10, 2),\n",
    "            congestion_surcharge NUMERIC(10, 2),\n",
    "            airport_fee NUMERIC(10, 2)\n",
    "        );\n",
    "        \"\"\"\n",
    "        \n",
    "        with engine.connect() as conn:\n",
    "            conn.execute(text(create_table_query))\n",
    "            conn.commit()\n",
    "            print(\"table 'taxi_trips' created\")\n",
    "        return True\n",
    "            \n",
    "    except Exception as e:\n",
    "        print(f\"error creating tables: {e}\")\n",
    "        return False\n",
    "\n",
    "# SQLAlchemy\n",
    "engine_url = f'postgresql://{DB_USER}:{DB_PASSWORD}@{DB_HOST}:{DB_PORT}/{DB_NAME}'\n",
    "engine = create_engine(engine_url)\n",
    "\n",
    "# tables\n",
    "tables_created = create_tables(engine)\n",
    "tables_created"
   ]
  },
  {
   "cell_type": "code",
   "execution_count": 6,
   "metadata": {},
   "outputs": [
    {
     "name": "stdout",
     "output_type": "stream",
     "text": [
      "1000 records from CSV file\n"
     ]
    },
    {
     "data": {
      "text/html": [
       "<div>\n",
       "<style scoped>\n",
       "    .dataframe tbody tr th:only-of-type {\n",
       "        vertical-align: middle;\n",
       "    }\n",
       "\n",
       "    .dataframe tbody tr th {\n",
       "        vertical-align: top;\n",
       "    }\n",
       "\n",
       "    .dataframe thead th {\n",
       "        text-align: right;\n",
       "    }\n",
       "</style>\n",
       "<table border=\"1\" class=\"dataframe\">\n",
       "  <thead>\n",
       "    <tr style=\"text-align: right;\">\n",
       "      <th></th>\n",
       "      <th>vendorid</th>\n",
       "      <th>tpep_pickup_datetime</th>\n",
       "      <th>tpep_dropoff_datetime</th>\n",
       "      <th>passenger_count</th>\n",
       "      <th>trip_distance</th>\n",
       "      <th>ratecodeid</th>\n",
       "      <th>store_and_fwd_flag</th>\n",
       "      <th>pulocationid</th>\n",
       "      <th>dolocationid</th>\n",
       "      <th>payment_type</th>\n",
       "      <th>fare_amount</th>\n",
       "      <th>extra</th>\n",
       "      <th>mta_tax</th>\n",
       "      <th>tip_amount</th>\n",
       "      <th>tolls_amount</th>\n",
       "      <th>improvement_surcharge</th>\n",
       "      <th>total_amount</th>\n",
       "      <th>congestion_surcharge</th>\n",
       "      <th>airport_fee</th>\n",
       "    </tr>\n",
       "  </thead>\n",
       "  <tbody>\n",
       "    <tr>\n",
       "      <th>0</th>\n",
       "      <td>2</td>\n",
       "      <td>2023-01-01T00:32:10.000</td>\n",
       "      <td>2023-01-01T00:40:36.000</td>\n",
       "      <td>1.0</td>\n",
       "      <td>0.97</td>\n",
       "      <td>1.0</td>\n",
       "      <td>N</td>\n",
       "      <td>161</td>\n",
       "      <td>141</td>\n",
       "      <td>2</td>\n",
       "      <td>9.3</td>\n",
       "      <td>1.00</td>\n",
       "      <td>0.5</td>\n",
       "      <td>0.00</td>\n",
       "      <td>0.0</td>\n",
       "      <td>1.0</td>\n",
       "      <td>14.30</td>\n",
       "      <td>2.5</td>\n",
       "      <td>0.00</td>\n",
       "    </tr>\n",
       "    <tr>\n",
       "      <th>1</th>\n",
       "      <td>2</td>\n",
       "      <td>2023-01-01T00:55:08.000</td>\n",
       "      <td>2023-01-01T01:01:27.000</td>\n",
       "      <td>1.0</td>\n",
       "      <td>1.10</td>\n",
       "      <td>1.0</td>\n",
       "      <td>N</td>\n",
       "      <td>43</td>\n",
       "      <td>237</td>\n",
       "      <td>1</td>\n",
       "      <td>7.9</td>\n",
       "      <td>1.00</td>\n",
       "      <td>0.5</td>\n",
       "      <td>4.00</td>\n",
       "      <td>0.0</td>\n",
       "      <td>1.0</td>\n",
       "      <td>16.90</td>\n",
       "      <td>2.5</td>\n",
       "      <td>0.00</td>\n",
       "    </tr>\n",
       "    <tr>\n",
       "      <th>2</th>\n",
       "      <td>2</td>\n",
       "      <td>2023-01-01T00:25:04.000</td>\n",
       "      <td>2023-01-01T00:37:49.000</td>\n",
       "      <td>1.0</td>\n",
       "      <td>2.51</td>\n",
       "      <td>1.0</td>\n",
       "      <td>N</td>\n",
       "      <td>48</td>\n",
       "      <td>238</td>\n",
       "      <td>1</td>\n",
       "      <td>14.9</td>\n",
       "      <td>1.00</td>\n",
       "      <td>0.5</td>\n",
       "      <td>15.00</td>\n",
       "      <td>0.0</td>\n",
       "      <td>1.0</td>\n",
       "      <td>34.90</td>\n",
       "      <td>2.5</td>\n",
       "      <td>0.00</td>\n",
       "    </tr>\n",
       "    <tr>\n",
       "      <th>3</th>\n",
       "      <td>1</td>\n",
       "      <td>2023-01-01T00:03:48.000</td>\n",
       "      <td>2023-01-01T00:13:25.000</td>\n",
       "      <td>0.0</td>\n",
       "      <td>1.90</td>\n",
       "      <td>1.0</td>\n",
       "      <td>N</td>\n",
       "      <td>138</td>\n",
       "      <td>7</td>\n",
       "      <td>1</td>\n",
       "      <td>12.1</td>\n",
       "      <td>7.25</td>\n",
       "      <td>0.5</td>\n",
       "      <td>0.00</td>\n",
       "      <td>0.0</td>\n",
       "      <td>1.0</td>\n",
       "      <td>22.10</td>\n",
       "      <td>0.0</td>\n",
       "      <td>1.25</td>\n",
       "    </tr>\n",
       "    <tr>\n",
       "      <th>4</th>\n",
       "      <td>2</td>\n",
       "      <td>2023-01-01T00:10:29.000</td>\n",
       "      <td>2023-01-01T00:21:19.000</td>\n",
       "      <td>1.0</td>\n",
       "      <td>1.43</td>\n",
       "      <td>1.0</td>\n",
       "      <td>N</td>\n",
       "      <td>107</td>\n",
       "      <td>79</td>\n",
       "      <td>1</td>\n",
       "      <td>11.4</td>\n",
       "      <td>1.00</td>\n",
       "      <td>0.5</td>\n",
       "      <td>3.28</td>\n",
       "      <td>0.0</td>\n",
       "      <td>1.0</td>\n",
       "      <td>19.68</td>\n",
       "      <td>2.5</td>\n",
       "      <td>0.00</td>\n",
       "    </tr>\n",
       "  </tbody>\n",
       "</table>\n",
       "</div>"
      ],
      "text/plain": [
       "   vendorid     tpep_pickup_datetime    tpep_dropoff_datetime  \\\n",
       "0         2  2023-01-01T00:32:10.000  2023-01-01T00:40:36.000   \n",
       "1         2  2023-01-01T00:55:08.000  2023-01-01T01:01:27.000   \n",
       "2         2  2023-01-01T00:25:04.000  2023-01-01T00:37:49.000   \n",
       "3         1  2023-01-01T00:03:48.000  2023-01-01T00:13:25.000   \n",
       "4         2  2023-01-01T00:10:29.000  2023-01-01T00:21:19.000   \n",
       "\n",
       "   passenger_count  trip_distance  ratecodeid store_and_fwd_flag  \\\n",
       "0              1.0           0.97         1.0                  N   \n",
       "1              1.0           1.10         1.0                  N   \n",
       "2              1.0           2.51         1.0                  N   \n",
       "3              0.0           1.90         1.0                  N   \n",
       "4              1.0           1.43         1.0                  N   \n",
       "\n",
       "   pulocationid  dolocationid  payment_type  fare_amount  extra  mta_tax  \\\n",
       "0           161           141             2          9.3   1.00      0.5   \n",
       "1            43           237             1          7.9   1.00      0.5   \n",
       "2            48           238             1         14.9   1.00      0.5   \n",
       "3           138             7             1         12.1   7.25      0.5   \n",
       "4           107            79             1         11.4   1.00      0.5   \n",
       "\n",
       "   tip_amount  tolls_amount  improvement_surcharge  total_amount  \\\n",
       "0        0.00           0.0                    1.0         14.30   \n",
       "1        4.00           0.0                    1.0         16.90   \n",
       "2       15.00           0.0                    1.0         34.90   \n",
       "3        0.00           0.0                    1.0         22.10   \n",
       "4        3.28           0.0                    1.0         19.68   \n",
       "\n",
       "   congestion_surcharge  airport_fee  \n",
       "0                   2.5         0.00  \n",
       "1                   2.5         0.00  \n",
       "2                   2.5         0.00  \n",
       "3                   0.0         1.25  \n",
       "4                   2.5         0.00  "
      ]
     },
     "execution_count": 6,
     "metadata": {},
     "output_type": "execute_result"
    }
   ],
   "source": [
    "# loading cleaned data\n",
    "df = pd.read_csv('data/cleaned_taxi_data.csv')\n",
    "print(f\"{len(df)} records from CSV file\")\n",
    "\n",
    "df.head()"
   ]
  },
  {
   "cell_type": "code",
   "execution_count": 7,
   "metadata": {},
   "outputs": [
    {
     "data": {
      "text/plain": [
       "vendorid                          int64\n",
       "tpep_pickup_datetime     datetime64[ns]\n",
       "tpep_dropoff_datetime    datetime64[ns]\n",
       "passenger_count                 float64\n",
       "trip_distance                   float64\n",
       "ratecodeid                      float64\n",
       "store_and_fwd_flag               object\n",
       "pulocationid                      int64\n",
       "dolocationid                      int64\n",
       "payment_type                      int64\n",
       "fare_amount                     float64\n",
       "extra                           float64\n",
       "mta_tax                         float64\n",
       "tip_amount                      float64\n",
       "tolls_amount                    float64\n",
       "improvement_surcharge           float64\n",
       "total_amount                    float64\n",
       "congestion_surcharge            float64\n",
       "airport_fee                     float64\n",
       "dtype: object"
      ]
     },
     "execution_count": 7,
     "metadata": {},
     "output_type": "execute_result"
    }
   ],
   "source": [
    "# converting date and time cols to datetime format\n",
    "if 'tpep_pickup_datetime' in df.columns:\n",
    "    df['tpep_pickup_datetime'] = pd.to_datetime(df['tpep_pickup_datetime'])\n",
    "if 'tpep_dropoff_datetime' in df.columns:\n",
    "    df['tpep_dropoff_datetime'] = pd.to_datetime(df['tpep_dropoff_datetime'])\n",
    "\n",
    "df.dtypes"
   ]
  },
  {
   "cell_type": "code",
   "execution_count": 8,
   "metadata": {},
   "outputs": [
    {
     "name": "stdout",
     "output_type": "stream",
     "text": [
      "loaded 1000 records to PostgreSQL\n"
     ]
    },
    {
     "data": {
      "text/plain": [
       "True"
      ]
     },
     "execution_count": 8,
     "metadata": {},
     "output_type": "execute_result"
    }
   ],
   "source": [
    "# loading data to PostgreSQL\n",
    "try:\n",
    "    df.to_sql('taxi_trips', engine, if_exists='replace', index=False)\n",
    "    \n",
    "    print(f\"loaded {len(df)} records to PostgreSQL\")\n",
    "    success = True\n",
    "except Exception as e:\n",
    "    print(f\"error loading data to PostgreSQL: {e}\")\n",
    "    success = False\n",
    "\n",
    "success"
   ]
  },
  {
   "cell_type": "code",
   "execution_count": 12,
   "metadata": {},
   "outputs": [
    {
     "name": "stdout",
     "output_type": "stream",
     "text": [
      "num of rows in database: 1000\n",
      "sample data from database:\n",
      "   vendorid tpep_pickup_datetime tpep_dropoff_datetime  passenger_count  \\\n",
      "0         2  2023-01-01 00:32:10   2023-01-01 00:40:36              1.0   \n",
      "1         2  2023-01-01 00:55:08   2023-01-01 01:01:27              1.0   \n",
      "2         2  2023-01-01 00:25:04   2023-01-01 00:37:49              1.0   \n",
      "3         1  2023-01-01 00:03:48   2023-01-01 00:13:25              0.0   \n",
      "4         2  2023-01-01 00:10:29   2023-01-01 00:21:19              1.0   \n",
      "\n",
      "   trip_distance  ratecodeid store_and_fwd_flag  pulocationid  dolocationid  \\\n",
      "0           0.97         1.0                  N           161           141   \n",
      "1           1.10         1.0                  N            43           237   \n",
      "2           2.51         1.0                  N            48           238   \n",
      "3           1.90         1.0                  N           138             7   \n",
      "4           1.43         1.0                  N           107            79   \n",
      "\n",
      "   payment_type  fare_amount  extra  mta_tax  tip_amount  tolls_amount  \\\n",
      "0             2          9.3   1.00      0.5        0.00           0.0   \n",
      "1             1          7.9   1.00      0.5        4.00           0.0   \n",
      "2             1         14.9   1.00      0.5       15.00           0.0   \n",
      "3             1         12.1   7.25      0.5        0.00           0.0   \n",
      "4             1         11.4   1.00      0.5        3.28           0.0   \n",
      "\n",
      "   improvement_surcharge  total_amount  congestion_surcharge  airport_fee  \n",
      "0                    1.0         14.30                   2.5         0.00  \n",
      "1                    1.0         16.90                   2.5         0.00  \n",
      "2                    1.0         34.90                   2.5         0.00  \n",
      "3                    1.0         22.10                   0.0         1.25  \n",
      "4                    1.0         19.68                   2.5         0.00  \n"
     ]
    }
   ],
   "source": [
    "try:\n",
    "    # get row count\n",
    "    query = \"SELECT COUNT(*) FROM taxi_trips\"\n",
    "    row_count = pd.read_sql(query, engine)\n",
    "    print(f\"num of rows in database: {row_count.iloc[0, 0]}\")\n",
    "    \n",
    "    # sample data\n",
    "    query = \"SELECT * FROM taxi_trips LIMIT 5\"\n",
    "    sample = pd.read_sql(query, engine)\n",
    "    print(\"sample data from database:\")\n",
    "    print(sample)\n",
    "except Exception as e:\n",
    "    print(f\"error querying database: {e}\")"
   ]
  }
 ],
 "metadata": {
  "kernelspec": {
   "display_name": "Python 3",
   "language": "python",
   "name": "python3"
  },
  "language_info": {
   "codemirror_mode": {
    "name": "ipython",
    "version": 3
   },
   "file_extension": ".py",
   "mimetype": "text/x-python",
   "name": "python",
   "nbconvert_exporter": "python",
   "pygments_lexer": "ipython3",
   "version": "3.13.2"
  }
 },
 "nbformat": 4,
 "nbformat_minor": 2
}
