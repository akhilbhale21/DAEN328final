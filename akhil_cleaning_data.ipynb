{
 "cells": [
  {
   "cell_type": "code",
   "execution_count": 1,
   "id": "435bfacb-bbef-4681-8415-590031f93226",
   "metadata": {},
   "outputs": [],
   "source": [
    "import pandas as pd"
   ]
  },
  {
   "cell_type": "code",
   "execution_count": 2,
   "id": "12a0dc83-25f2-4e9c-ac42-abb008106343",
   "metadata": {},
   "outputs": [],
   "source": [
    "## cleans payment_type by creaing a map of the existing numeric values to the actual payment type\n",
    "def clean_payment_type(df):\n",
    "\n",
    "    payment_type_map = {\n",
    "        0: \"Flex Fare trip\",\n",
    "        1: \"Credit Card\",\n",
    "        2: \"Cash\",\n",
    "        3: \"No charge\",\n",
    "        4: \"Dispute\",\n",
    "        5: \"Unknown\",\n",
    "        6: \"Voided trip\"\n",
    "    }\n",
    "\n",
    "    df['payment_type'] = pd.to_numeric(df['payment_type'], errors='coerce')\n",
    "    df['payment_type'] = df['payment_type'].map(payment_map)\n",
    "    \n",
    "    return df\n",
    "\n",
    "## clean fare_amount, extra, mta_tax, tip_amount\n",
    "def clean_fare_and_related_columns(df):\n",
    "    numeric_cols = ['fare_amount', 'extra', 'mta_tax', 'tip_amount']\n",
    "    \n",
    "    for col in numeric_cols:\n",
    "        df[col] = pd.to_numeric(df[col], errors='coerce')\n",
    "        df[col] = df[col].round(2)\n",
    "        df = df[df[col] >= 0] \n",
    "    \n",
    "    return df    "
   ]
  },
  {
   "cell_type": "code",
   "execution_count": 3,
   "id": "c76f24f8-14ae-4b9a-b064-7418371f7fcf",
   "metadata": {},
   "outputs": [
    {
     "data": {
      "text/plain": [
       "'/Users/akhilbhale/DAEN 328 PIPELINE ENGINEERING/Term Project'"
      ]
     },
     "execution_count": 3,
     "metadata": {},
     "output_type": "execute_result"
    }
   ],
   "source": [
    "import os \n",
    "os.getcwd()"
   ]
  },
  {
   "cell_type": "code",
   "execution_count": null,
   "id": "c5c484be-d07f-42f8-a1c2-de87dfdd9c55",
   "metadata": {},
   "outputs": [],
   "source": []
  }
 ],
 "metadata": {
  "kernelspec": {
   "display_name": "Python 3 (ipykernel)",
   "language": "python",
   "name": "python3"
  },
  "language_info": {
   "codemirror_mode": {
    "name": "ipython",
    "version": 3
   },
   "file_extension": ".py",
   "mimetype": "text/x-python",
   "name": "python",
   "nbconvert_exporter": "python",
   "pygments_lexer": "ipython3",
   "version": "3.9.12"
  }
 },
 "nbformat": 4,
 "nbformat_minor": 5
}
